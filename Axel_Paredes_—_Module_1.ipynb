{
  "nbformat": 4,
  "nbformat_minor": 0,
  "metadata": {
    "colab": {
      "provenance": [],
      "authorship_tag": "ABX9TyPnzTF52G6g3Y4kfh7gO9JO",
      "include_colab_link": true
    },
    "kernelspec": {
      "name": "python3",
      "display_name": "Python 3"
    },
    "language_info": {
      "name": "python"
    }
  },
  "cells": [
    {
      "cell_type": "markdown",
      "metadata": {
        "id": "view-in-github",
        "colab_type": "text"
      },
      "source": [
        "<a href=\"https://colab.research.google.com/github/Axlbenja/MiamiDadeCounty_EmployeePay_2025/blob/main/Axel_Paredes_%E2%80%94_Module_1.ipynb\" target=\"_parent\"><img src=\"https://colab.research.google.com/assets/colab-badge.svg\" alt=\"Open In Colab\"/></a>"
      ]
    },
    {
      "cell_type": "code",
      "execution_count": 256,
      "metadata": {
        "colab": {
          "base_uri": "https://localhost:8080/"
        },
        "collapsed": true,
        "id": "hGZTT1tIo2OU",
        "outputId": "4680a7d5-f0af-4e3e-f63d-069352e77de1"
      },
      "outputs": [
        {
          "output_type": "stream",
          "name": "stdout",
          "text": [
            "Requirement already satisfied: streamlit in /usr/local/lib/python3.11/dist-packages (1.43.2)\n",
            "Requirement already satisfied: altair<6,>=4.0 in /usr/local/lib/python3.11/dist-packages (from streamlit) (5.5.0)\n",
            "Requirement already satisfied: blinker<2,>=1.0.0 in /usr/local/lib/python3.11/dist-packages (from streamlit) (1.9.0)\n",
            "Requirement already satisfied: cachetools<6,>=4.0 in /usr/local/lib/python3.11/dist-packages (from streamlit) (5.5.2)\n",
            "Requirement already satisfied: click<9,>=7.0 in /usr/local/lib/python3.11/dist-packages (from streamlit) (8.1.8)\n",
            "Requirement already satisfied: numpy<3,>=1.23 in /usr/local/lib/python3.11/dist-packages (from streamlit) (1.26.4)\n",
            "Requirement already satisfied: packaging<25,>=20 in /usr/local/lib/python3.11/dist-packages (from streamlit) (24.2)\n",
            "Requirement already satisfied: pandas<3,>=1.4.0 in /usr/local/lib/python3.11/dist-packages (from streamlit) (2.2.2)\n",
            "Requirement already satisfied: pillow<12,>=7.1.0 in /usr/local/lib/python3.11/dist-packages (from streamlit) (11.1.0)\n",
            "Requirement already satisfied: protobuf<6,>=3.20 in /usr/local/lib/python3.11/dist-packages (from streamlit) (4.25.6)\n",
            "Requirement already satisfied: pyarrow>=7.0 in /usr/local/lib/python3.11/dist-packages (from streamlit) (18.1.0)\n",
            "Requirement already satisfied: requests<3,>=2.27 in /usr/local/lib/python3.11/dist-packages (from streamlit) (2.32.3)\n",
            "Requirement already satisfied: tenacity<10,>=8.1.0 in /usr/local/lib/python3.11/dist-packages (from streamlit) (9.0.0)\n",
            "Requirement already satisfied: toml<2,>=0.10.1 in /usr/local/lib/python3.11/dist-packages (from streamlit) (0.10.2)\n",
            "Requirement already satisfied: typing-extensions<5,>=4.4.0 in /usr/local/lib/python3.11/dist-packages (from streamlit) (4.12.2)\n",
            "Requirement already satisfied: watchdog<7,>=2.1.5 in /usr/local/lib/python3.11/dist-packages (from streamlit) (6.0.0)\n",
            "Requirement already satisfied: gitpython!=3.1.19,<4,>=3.0.7 in /usr/local/lib/python3.11/dist-packages (from streamlit) (3.1.44)\n",
            "Requirement already satisfied: pydeck<1,>=0.8.0b4 in /usr/local/lib/python3.11/dist-packages (from streamlit) (0.9.1)\n",
            "Requirement already satisfied: tornado<7,>=6.0.3 in /usr/local/lib/python3.11/dist-packages (from streamlit) (6.4.2)\n",
            "Requirement already satisfied: jinja2 in /usr/local/lib/python3.11/dist-packages (from altair<6,>=4.0->streamlit) (3.1.6)\n",
            "Requirement already satisfied: jsonschema>=3.0 in /usr/local/lib/python3.11/dist-packages (from altair<6,>=4.0->streamlit) (4.23.0)\n",
            "Requirement already satisfied: narwhals>=1.14.2 in /usr/local/lib/python3.11/dist-packages (from altair<6,>=4.0->streamlit) (1.30.0)\n",
            "Requirement already satisfied: gitdb<5,>=4.0.1 in /usr/local/lib/python3.11/dist-packages (from gitpython!=3.1.19,<4,>=3.0.7->streamlit) (4.0.12)\n",
            "Requirement already satisfied: python-dateutil>=2.8.2 in /usr/local/lib/python3.11/dist-packages (from pandas<3,>=1.4.0->streamlit) (2.8.2)\n",
            "Requirement already satisfied: pytz>=2020.1 in /usr/local/lib/python3.11/dist-packages (from pandas<3,>=1.4.0->streamlit) (2025.1)\n",
            "Requirement already satisfied: tzdata>=2022.7 in /usr/local/lib/python3.11/dist-packages (from pandas<3,>=1.4.0->streamlit) (2025.1)\n",
            "Requirement already satisfied: charset-normalizer<4,>=2 in /usr/local/lib/python3.11/dist-packages (from requests<3,>=2.27->streamlit) (3.4.1)\n",
            "Requirement already satisfied: idna<4,>=2.5 in /usr/local/lib/python3.11/dist-packages (from requests<3,>=2.27->streamlit) (3.10)\n",
            "Requirement already satisfied: urllib3<3,>=1.21.1 in /usr/local/lib/python3.11/dist-packages (from requests<3,>=2.27->streamlit) (2.3.0)\n",
            "Requirement already satisfied: certifi>=2017.4.17 in /usr/local/lib/python3.11/dist-packages (from requests<3,>=2.27->streamlit) (2025.1.31)\n",
            "Requirement already satisfied: smmap<6,>=3.0.1 in /usr/local/lib/python3.11/dist-packages (from gitdb<5,>=4.0.1->gitpython!=3.1.19,<4,>=3.0.7->streamlit) (5.0.2)\n",
            "Requirement already satisfied: MarkupSafe>=2.0 in /usr/local/lib/python3.11/dist-packages (from jinja2->altair<6,>=4.0->streamlit) (3.0.2)\n",
            "Requirement already satisfied: attrs>=22.2.0 in /usr/local/lib/python3.11/dist-packages (from jsonschema>=3.0->altair<6,>=4.0->streamlit) (25.2.0)\n",
            "Requirement already satisfied: jsonschema-specifications>=2023.03.6 in /usr/local/lib/python3.11/dist-packages (from jsonschema>=3.0->altair<6,>=4.0->streamlit) (2024.10.1)\n",
            "Requirement already satisfied: referencing>=0.28.4 in /usr/local/lib/python3.11/dist-packages (from jsonschema>=3.0->altair<6,>=4.0->streamlit) (0.36.2)\n",
            "Requirement already satisfied: rpds-py>=0.7.1 in /usr/local/lib/python3.11/dist-packages (from jsonschema>=3.0->altair<6,>=4.0->streamlit) (0.23.1)\n",
            "Requirement already satisfied: six>=1.5 in /usr/local/lib/python3.11/dist-packages (from python-dateutil>=2.8.2->pandas<3,>=1.4.0->streamlit) (1.17.0)\n"
          ]
        }
      ],
      "source": [
        "from IPython import get_ipython\n",
        "from IPython.display import display\n",
        "!pip install streamlit\n",
        "import streamlit as st\n",
        "import pandas as pd\n",
        "from mlxtend.frequent_patterns import apriori, association_rules\n",
        "from mlxtend.preprocessing import TransactionEncoder\n",
        "from mlxtend.frequent_patterns import apriori\n",
        "from mlxtend.frequent_patterns import association_rules\n",
        "import matplotlib.pyplot as plt\n",
        "import seaborn as sns\n",
        "import plotly.express as px\n",
        "import warnings\n",
        "warnings.filterwarnings(\"ignore\", category=UserWarning, message=\".*ScriptRunContext.*\")"
      ]
    },
    {
      "cell_type": "code",
      "source": [
        "def load_and_preprocess_data():\n",
        "\n",
        "    url = \"https://raw.githubusercontent.com/Axlbenja/axel.paredes/refs/heads/main/datatset_consumer_complaints.csv\"\n",
        "    df = pd.read_csv(url)\n",
        "\n",
        "    df = df.dropna(subset=['Product', 'Issue'])\n",
        "    df['Item'] = df['Product'] + \" - \" + df['Issue'].str.replace(',', '').str.strip()\n",
        "    transactions = df.groupby(' ID')['Item'].apply(list).tolist()\n",
        "    return transactions #This line was added to return the transactions variable."
      ],
      "metadata": {
        "id": "0_VFAqS_RwHy"
      },
      "execution_count": 257,
      "outputs": []
    },
    {
      "cell_type": "code",
      "source": [
        "df.head()"
      ],
      "metadata": {
        "colab": {
          "base_uri": "https://localhost:8080/",
          "height": 328
        },
        "id": "TMwEYMPbpaT6",
        "outputId": "7d24558e-ef0b-4eae-b2c4-7ca40551acd1"
      },
      "execution_count": 258,
      "outputs": [
        {
          "output_type": "execute_result",
          "data": {
            "text/plain": [
              "        ID                           Company           Product  \\\n",
              "0  1615767                      PHH Mortgage          Mortgage   \n",
              "1   654223                             Ocwen          Mortgage   \n",
              "2  1143398    Southwest Credit Systems, L.P.   Debt collection   \n",
              "3  1303679  Continental Finance Company, LLC       Credit card   \n",
              "4  1627370                          Experian  Credit reporting   \n",
              "\n",
              "                                      Issue State Submitted via Date received  \\\n",
              "0  Loan servicing, payments, escrow account    FL           Web    10/20/2015   \n",
              "1  Loan servicing, payments, escrow account    NC           Web      3/1/2014   \n",
              "2  Loan modification,collection,foreclosure    MO           Web     4/12/2014   \n",
              "3                         Billing statement    WA           Web    03/26/2015   \n",
              "4  Unable to get credit report/credit score    VA           Web    10/27/2015   \n",
              "\n",
              "  Date resolved Timely response? Consumer disputed?      state name  \\\n",
              "0    10/20/2015              Yes                 No         Florida   \n",
              "1      3/1/2014              Yes                 No  North Carolina   \n",
              "2     4/12/2014              Yes                 No        Missouri   \n",
              "3    03/26/2015              Yes                 No      Washington   \n",
              "4    10/27/2015              Yes                 No        Virginia   \n",
              "\n",
              "  Date received.1 Date resolved.1  Resolution time(in days)  Year  \\\n",
              "0      10/20/2015      10/20/2015                         0  2015   \n",
              "1        1/3/2014        1/3/2014                         0  2014   \n",
              "2       12/4/2014       12/4/2014                         0  2014   \n",
              "3       3/26/2015       3/26/2015                         0  2015   \n",
              "4      10/27/2015      10/27/2015                         0  2015   \n",
              "\n",
              "  QTR (US FLY)                                               Item  \n",
              "0           Q4  Mortgage - Loan servicing payments escrow account  \n",
              "1           Q1  Mortgage - Loan servicing payments escrow account  \n",
              "2           Q4  Debt collection - Loan modificationcollectionf...  \n",
              "3           Q1                    Credit card - Billing statement  \n",
              "4           Q4  Credit reporting - Unable to get credit report...  "
            ],
            "text/html": [
              "\n",
              "  <div id=\"df-e39983f2-6e4c-4989-965d-55e8e921d968\" class=\"colab-df-container\">\n",
              "    <div>\n",
              "<style scoped>\n",
              "    .dataframe tbody tr th:only-of-type {\n",
              "        vertical-align: middle;\n",
              "    }\n",
              "\n",
              "    .dataframe tbody tr th {\n",
              "        vertical-align: top;\n",
              "    }\n",
              "\n",
              "    .dataframe thead th {\n",
              "        text-align: right;\n",
              "    }\n",
              "</style>\n",
              "<table border=\"1\" class=\"dataframe\">\n",
              "  <thead>\n",
              "    <tr style=\"text-align: right;\">\n",
              "      <th></th>\n",
              "      <th>ID</th>\n",
              "      <th>Company</th>\n",
              "      <th>Product</th>\n",
              "      <th>Issue</th>\n",
              "      <th>State</th>\n",
              "      <th>Submitted via</th>\n",
              "      <th>Date received</th>\n",
              "      <th>Date resolved</th>\n",
              "      <th>Timely response?</th>\n",
              "      <th>Consumer disputed?</th>\n",
              "      <th>state name</th>\n",
              "      <th>Date received.1</th>\n",
              "      <th>Date resolved.1</th>\n",
              "      <th>Resolution time(in days)</th>\n",
              "      <th>Year</th>\n",
              "      <th>QTR (US FLY)</th>\n",
              "      <th>Item</th>\n",
              "    </tr>\n",
              "  </thead>\n",
              "  <tbody>\n",
              "    <tr>\n",
              "      <th>0</th>\n",
              "      <td>1615767</td>\n",
              "      <td>PHH Mortgage</td>\n",
              "      <td>Mortgage</td>\n",
              "      <td>Loan servicing, payments, escrow account</td>\n",
              "      <td>FL</td>\n",
              "      <td>Web</td>\n",
              "      <td>10/20/2015</td>\n",
              "      <td>10/20/2015</td>\n",
              "      <td>Yes</td>\n",
              "      <td>No</td>\n",
              "      <td>Florida</td>\n",
              "      <td>10/20/2015</td>\n",
              "      <td>10/20/2015</td>\n",
              "      <td>0</td>\n",
              "      <td>2015</td>\n",
              "      <td>Q4</td>\n",
              "      <td>Mortgage - Loan servicing payments escrow account</td>\n",
              "    </tr>\n",
              "    <tr>\n",
              "      <th>1</th>\n",
              "      <td>654223</td>\n",
              "      <td>Ocwen</td>\n",
              "      <td>Mortgage</td>\n",
              "      <td>Loan servicing, payments, escrow account</td>\n",
              "      <td>NC</td>\n",
              "      <td>Web</td>\n",
              "      <td>3/1/2014</td>\n",
              "      <td>3/1/2014</td>\n",
              "      <td>Yes</td>\n",
              "      <td>No</td>\n",
              "      <td>North Carolina</td>\n",
              "      <td>1/3/2014</td>\n",
              "      <td>1/3/2014</td>\n",
              "      <td>0</td>\n",
              "      <td>2014</td>\n",
              "      <td>Q1</td>\n",
              "      <td>Mortgage - Loan servicing payments escrow account</td>\n",
              "    </tr>\n",
              "    <tr>\n",
              "      <th>2</th>\n",
              "      <td>1143398</td>\n",
              "      <td>Southwest Credit Systems, L.P.</td>\n",
              "      <td>Debt collection</td>\n",
              "      <td>Loan modification,collection,foreclosure</td>\n",
              "      <td>MO</td>\n",
              "      <td>Web</td>\n",
              "      <td>4/12/2014</td>\n",
              "      <td>4/12/2014</td>\n",
              "      <td>Yes</td>\n",
              "      <td>No</td>\n",
              "      <td>Missouri</td>\n",
              "      <td>12/4/2014</td>\n",
              "      <td>12/4/2014</td>\n",
              "      <td>0</td>\n",
              "      <td>2014</td>\n",
              "      <td>Q4</td>\n",
              "      <td>Debt collection - Loan modificationcollectionf...</td>\n",
              "    </tr>\n",
              "    <tr>\n",
              "      <th>3</th>\n",
              "      <td>1303679</td>\n",
              "      <td>Continental Finance Company, LLC</td>\n",
              "      <td>Credit card</td>\n",
              "      <td>Billing statement</td>\n",
              "      <td>WA</td>\n",
              "      <td>Web</td>\n",
              "      <td>03/26/2015</td>\n",
              "      <td>03/26/2015</td>\n",
              "      <td>Yes</td>\n",
              "      <td>No</td>\n",
              "      <td>Washington</td>\n",
              "      <td>3/26/2015</td>\n",
              "      <td>3/26/2015</td>\n",
              "      <td>0</td>\n",
              "      <td>2015</td>\n",
              "      <td>Q1</td>\n",
              "      <td>Credit card - Billing statement</td>\n",
              "    </tr>\n",
              "    <tr>\n",
              "      <th>4</th>\n",
              "      <td>1627370</td>\n",
              "      <td>Experian</td>\n",
              "      <td>Credit reporting</td>\n",
              "      <td>Unable to get credit report/credit score</td>\n",
              "      <td>VA</td>\n",
              "      <td>Web</td>\n",
              "      <td>10/27/2015</td>\n",
              "      <td>10/27/2015</td>\n",
              "      <td>Yes</td>\n",
              "      <td>No</td>\n",
              "      <td>Virginia</td>\n",
              "      <td>10/27/2015</td>\n",
              "      <td>10/27/2015</td>\n",
              "      <td>0</td>\n",
              "      <td>2015</td>\n",
              "      <td>Q4</td>\n",
              "      <td>Credit reporting - Unable to get credit report...</td>\n",
              "    </tr>\n",
              "  </tbody>\n",
              "</table>\n",
              "</div>\n",
              "    <div class=\"colab-df-buttons\">\n",
              "\n",
              "  <div class=\"colab-df-container\">\n",
              "    <button class=\"colab-df-convert\" onclick=\"convertToInteractive('df-e39983f2-6e4c-4989-965d-55e8e921d968')\"\n",
              "            title=\"Convert this dataframe to an interactive table.\"\n",
              "            style=\"display:none;\">\n",
              "\n",
              "  <svg xmlns=\"http://www.w3.org/2000/svg\" height=\"24px\" viewBox=\"0 -960 960 960\">\n",
              "    <path d=\"M120-120v-720h720v720H120Zm60-500h600v-160H180v160Zm220 220h160v-160H400v160Zm0 220h160v-160H400v160ZM180-400h160v-160H180v160Zm440 0h160v-160H620v160ZM180-180h160v-160H180v160Zm440 0h160v-160H620v160Z\"/>\n",
              "  </svg>\n",
              "    </button>\n",
              "\n",
              "  <style>\n",
              "    .colab-df-container {\n",
              "      display:flex;\n",
              "      gap: 12px;\n",
              "    }\n",
              "\n",
              "    .colab-df-convert {\n",
              "      background-color: #E8F0FE;\n",
              "      border: none;\n",
              "      border-radius: 50%;\n",
              "      cursor: pointer;\n",
              "      display: none;\n",
              "      fill: #1967D2;\n",
              "      height: 32px;\n",
              "      padding: 0 0 0 0;\n",
              "      width: 32px;\n",
              "    }\n",
              "\n",
              "    .colab-df-convert:hover {\n",
              "      background-color: #E2EBFA;\n",
              "      box-shadow: 0px 1px 2px rgba(60, 64, 67, 0.3), 0px 1px 3px 1px rgba(60, 64, 67, 0.15);\n",
              "      fill: #174EA6;\n",
              "    }\n",
              "\n",
              "    .colab-df-buttons div {\n",
              "      margin-bottom: 4px;\n",
              "    }\n",
              "\n",
              "    [theme=dark] .colab-df-convert {\n",
              "      background-color: #3B4455;\n",
              "      fill: #D2E3FC;\n",
              "    }\n",
              "\n",
              "    [theme=dark] .colab-df-convert:hover {\n",
              "      background-color: #434B5C;\n",
              "      box-shadow: 0px 1px 3px 1px rgba(0, 0, 0, 0.15);\n",
              "      filter: drop-shadow(0px 1px 2px rgba(0, 0, 0, 0.3));\n",
              "      fill: #FFFFFF;\n",
              "    }\n",
              "  </style>\n",
              "\n",
              "    <script>\n",
              "      const buttonEl =\n",
              "        document.querySelector('#df-e39983f2-6e4c-4989-965d-55e8e921d968 button.colab-df-convert');\n",
              "      buttonEl.style.display =\n",
              "        google.colab.kernel.accessAllowed ? 'block' : 'none';\n",
              "\n",
              "      async function convertToInteractive(key) {\n",
              "        const element = document.querySelector('#df-e39983f2-6e4c-4989-965d-55e8e921d968');\n",
              "        const dataTable =\n",
              "          await google.colab.kernel.invokeFunction('convertToInteractive',\n",
              "                                                    [key], {});\n",
              "        if (!dataTable) return;\n",
              "\n",
              "        const docLinkHtml = 'Like what you see? Visit the ' +\n",
              "          '<a target=\"_blank\" href=https://colab.research.google.com/notebooks/data_table.ipynb>data table notebook</a>'\n",
              "          + ' to learn more about interactive tables.';\n",
              "        element.innerHTML = '';\n",
              "        dataTable['output_type'] = 'display_data';\n",
              "        await google.colab.output.renderOutput(dataTable, element);\n",
              "        const docLink = document.createElement('div');\n",
              "        docLink.innerHTML = docLinkHtml;\n",
              "        element.appendChild(docLink);\n",
              "      }\n",
              "    </script>\n",
              "  </div>\n",
              "\n",
              "\n",
              "<div id=\"df-43837410-7bf8-4d05-871f-fe9c4849a3ab\">\n",
              "  <button class=\"colab-df-quickchart\" onclick=\"quickchart('df-43837410-7bf8-4d05-871f-fe9c4849a3ab')\"\n",
              "            title=\"Suggest charts\"\n",
              "            style=\"display:none;\">\n",
              "\n",
              "<svg xmlns=\"http://www.w3.org/2000/svg\" height=\"24px\"viewBox=\"0 0 24 24\"\n",
              "     width=\"24px\">\n",
              "    <g>\n",
              "        <path d=\"M19 3H5c-1.1 0-2 .9-2 2v14c0 1.1.9 2 2 2h14c1.1 0 2-.9 2-2V5c0-1.1-.9-2-2-2zM9 17H7v-7h2v7zm4 0h-2V7h2v10zm4 0h-2v-4h2v4z\"/>\n",
              "    </g>\n",
              "</svg>\n",
              "  </button>\n",
              "\n",
              "<style>\n",
              "  .colab-df-quickchart {\n",
              "      --bg-color: #E8F0FE;\n",
              "      --fill-color: #1967D2;\n",
              "      --hover-bg-color: #E2EBFA;\n",
              "      --hover-fill-color: #174EA6;\n",
              "      --disabled-fill-color: #AAA;\n",
              "      --disabled-bg-color: #DDD;\n",
              "  }\n",
              "\n",
              "  [theme=dark] .colab-df-quickchart {\n",
              "      --bg-color: #3B4455;\n",
              "      --fill-color: #D2E3FC;\n",
              "      --hover-bg-color: #434B5C;\n",
              "      --hover-fill-color: #FFFFFF;\n",
              "      --disabled-bg-color: #3B4455;\n",
              "      --disabled-fill-color: #666;\n",
              "  }\n",
              "\n",
              "  .colab-df-quickchart {\n",
              "    background-color: var(--bg-color);\n",
              "    border: none;\n",
              "    border-radius: 50%;\n",
              "    cursor: pointer;\n",
              "    display: none;\n",
              "    fill: var(--fill-color);\n",
              "    height: 32px;\n",
              "    padding: 0;\n",
              "    width: 32px;\n",
              "  }\n",
              "\n",
              "  .colab-df-quickchart:hover {\n",
              "    background-color: var(--hover-bg-color);\n",
              "    box-shadow: 0 1px 2px rgba(60, 64, 67, 0.3), 0 1px 3px 1px rgba(60, 64, 67, 0.15);\n",
              "    fill: var(--button-hover-fill-color);\n",
              "  }\n",
              "\n",
              "  .colab-df-quickchart-complete:disabled,\n",
              "  .colab-df-quickchart-complete:disabled:hover {\n",
              "    background-color: var(--disabled-bg-color);\n",
              "    fill: var(--disabled-fill-color);\n",
              "    box-shadow: none;\n",
              "  }\n",
              "\n",
              "  .colab-df-spinner {\n",
              "    border: 2px solid var(--fill-color);\n",
              "    border-color: transparent;\n",
              "    border-bottom-color: var(--fill-color);\n",
              "    animation:\n",
              "      spin 1s steps(1) infinite;\n",
              "  }\n",
              "\n",
              "  @keyframes spin {\n",
              "    0% {\n",
              "      border-color: transparent;\n",
              "      border-bottom-color: var(--fill-color);\n",
              "      border-left-color: var(--fill-color);\n",
              "    }\n",
              "    20% {\n",
              "      border-color: transparent;\n",
              "      border-left-color: var(--fill-color);\n",
              "      border-top-color: var(--fill-color);\n",
              "    }\n",
              "    30% {\n",
              "      border-color: transparent;\n",
              "      border-left-color: var(--fill-color);\n",
              "      border-top-color: var(--fill-color);\n",
              "      border-right-color: var(--fill-color);\n",
              "    }\n",
              "    40% {\n",
              "      border-color: transparent;\n",
              "      border-right-color: var(--fill-color);\n",
              "      border-top-color: var(--fill-color);\n",
              "    }\n",
              "    60% {\n",
              "      border-color: transparent;\n",
              "      border-right-color: var(--fill-color);\n",
              "    }\n",
              "    80% {\n",
              "      border-color: transparent;\n",
              "      border-right-color: var(--fill-color);\n",
              "      border-bottom-color: var(--fill-color);\n",
              "    }\n",
              "    90% {\n",
              "      border-color: transparent;\n",
              "      border-bottom-color: var(--fill-color);\n",
              "    }\n",
              "  }\n",
              "</style>\n",
              "\n",
              "  <script>\n",
              "    async function quickchart(key) {\n",
              "      const quickchartButtonEl =\n",
              "        document.querySelector('#' + key + ' button');\n",
              "      quickchartButtonEl.disabled = true;  // To prevent multiple clicks.\n",
              "      quickchartButtonEl.classList.add('colab-df-spinner');\n",
              "      try {\n",
              "        const charts = await google.colab.kernel.invokeFunction(\n",
              "            'suggestCharts', [key], {});\n",
              "      } catch (error) {\n",
              "        console.error('Error during call to suggestCharts:', error);\n",
              "      }\n",
              "      quickchartButtonEl.classList.remove('colab-df-spinner');\n",
              "      quickchartButtonEl.classList.add('colab-df-quickchart-complete');\n",
              "    }\n",
              "    (() => {\n",
              "      let quickchartButtonEl =\n",
              "        document.querySelector('#df-43837410-7bf8-4d05-871f-fe9c4849a3ab button');\n",
              "      quickchartButtonEl.style.display =\n",
              "        google.colab.kernel.accessAllowed ? 'block' : 'none';\n",
              "    })();\n",
              "  </script>\n",
              "</div>\n",
              "\n",
              "    </div>\n",
              "  </div>\n"
            ],
            "application/vnd.google.colaboratory.intrinsic+json": {
              "type": "dataframe",
              "variable_name": "df",
              "summary": "{\n  \"name\": \"df\",\n  \"rows\": 14000,\n  \"fields\": [\n    {\n      \"column\": \" ID\",\n      \"properties\": {\n        \"dtype\": \"number\",\n        \"std\": 539610,\n        \"min\": 216299,\n        \"max\": 2207193,\n        \"num_unique_values\": 14000,\n        \"samples\": [\n          350153,\n          633917,\n          1285839\n        ],\n        \"semantic_type\": \"\",\n        \"description\": \"\"\n      }\n    },\n    {\n      \"column\": \"Company\",\n      \"properties\": {\n        \"dtype\": \"category\",\n        \"num_unique_values\": 1050,\n        \"samples\": [\n          \"Ophrys, L.L.C.\",\n          \"Lakeview Loan Servicing, LLC\",\n          \"Webster Account Solutions LLC\"\n        ],\n        \"semantic_type\": \"\",\n        \"description\": \"\"\n      }\n    },\n    {\n      \"column\": \"Product\",\n      \"properties\": {\n        \"dtype\": \"category\",\n        \"num_unique_values\": 12,\n        \"samples\": [\n          \"Other financial service\",\n          \"Money transfers\",\n          \"Mortgage\"\n        ],\n        \"semantic_type\": \"\",\n        \"description\": \"\"\n      }\n    },\n    {\n      \"column\": \"Issue\",\n      \"properties\": {\n        \"dtype\": \"category\",\n        \"num_unique_values\": 81,\n        \"samples\": [\n          \"APR or interest rate\",\n          \"Loan servicing, payments, escrow account\",\n          \"Communication tactics\"\n        ],\n        \"semantic_type\": \"\",\n        \"description\": \"\"\n      }\n    },\n    {\n      \"column\": \"State\",\n      \"properties\": {\n        \"dtype\": \"category\",\n        \"num_unique_values\": 59,\n        \"samples\": [\n          \"FL\",\n          \"IL\",\n          \"WI\"\n        ],\n        \"semantic_type\": \"\",\n        \"description\": \"\"\n      }\n    },\n    {\n      \"column\": \"Submitted via\",\n      \"properties\": {\n        \"dtype\": \"category\",\n        \"num_unique_values\": 5,\n        \"samples\": [\n          \"Email\",\n          \"Fax\",\n          \"Postal mail\"\n        ],\n        \"semantic_type\": \"\",\n        \"description\": \"\"\n      }\n    },\n    {\n      \"column\": \"Date received\",\n      \"properties\": {\n        \"dtype\": \"object\",\n        \"num_unique_values\": 1370,\n        \"samples\": [\n          \"03/29/2016\",\n          \"04/20/2015\",\n          \"4/2/2014\"\n        ],\n        \"semantic_type\": \"\",\n        \"description\": \"\"\n      }\n    },\n    {\n      \"column\": \"Date resolved\",\n      \"properties\": {\n        \"dtype\": \"object\",\n        \"num_unique_values\": 1322,\n        \"samples\": [\n          \"3/1/2015\",\n          \"10/27/2014\",\n          \"05/17/2014\"\n        ],\n        \"semantic_type\": \"\",\n        \"description\": \"\"\n      }\n    },\n    {\n      \"column\": \"Timely response?\",\n      \"properties\": {\n        \"dtype\": \"category\",\n        \"num_unique_values\": 2,\n        \"samples\": [\n          \"No\",\n          \"Yes\"\n        ],\n        \"semantic_type\": \"\",\n        \"description\": \"\"\n      }\n    },\n    {\n      \"column\": \"Consumer disputed?\",\n      \"properties\": {\n        \"dtype\": \"category\",\n        \"num_unique_values\": 2,\n        \"samples\": [\n          \"Yes\",\n          \"No\"\n        ],\n        \"semantic_type\": \"\",\n        \"description\": \"\"\n      }\n    },\n    {\n      \"column\": \"state name\",\n      \"properties\": {\n        \"dtype\": \"category\",\n        \"num_unique_values\": 51,\n        \"samples\": [\n          \"District of Columbia\",\n          \"Rhode Island\"\n        ],\n        \"semantic_type\": \"\",\n        \"description\": \"\"\n      }\n    },\n    {\n      \"column\": \"Date received.1\",\n      \"properties\": {\n        \"dtype\": \"object\",\n        \"num_unique_values\": 1370,\n        \"samples\": [\n          \"3/29/2016\",\n          \"4/20/2015\"\n        ],\n        \"semantic_type\": \"\",\n        \"description\": \"\"\n      }\n    },\n    {\n      \"column\": \"Date resolved.1\",\n      \"properties\": {\n        \"dtype\": \"object\",\n        \"num_unique_values\": 1322,\n        \"samples\": [\n          \"1/3/2015\",\n          \"10/27/2014\"\n        ],\n        \"semantic_type\": \"\",\n        \"description\": \"\"\n      }\n    },\n    {\n      \"column\": \"Resolution time(in days)\",\n      \"properties\": {\n        \"dtype\": \"number\",\n        \"std\": 6,\n        \"min\": -1,\n        \"max\": 286,\n        \"num_unique_values\": 77,\n        \"samples\": [\n          2,\n          13\n        ],\n        \"semantic_type\": \"\",\n        \"description\": \"\"\n      }\n    },\n    {\n      \"column\": \"Year\",\n      \"properties\": {\n        \"dtype\": \"number\",\n        \"std\": 1,\n        \"min\": 2013,\n        \"max\": 2016,\n        \"num_unique_values\": 4,\n        \"samples\": [\n          2014,\n          2013\n        ],\n        \"semantic_type\": \"\",\n        \"description\": \"\"\n      }\n    },\n    {\n      \"column\": \"QTR (US FLY)\",\n      \"properties\": {\n        \"dtype\": \"category\",\n        \"num_unique_values\": 4,\n        \"samples\": [\n          \"Q1\",\n          \"Q3\"\n        ],\n        \"semantic_type\": \"\",\n        \"description\": \"\"\n      }\n    },\n    {\n      \"column\": \"Item\",\n      \"properties\": {\n        \"dtype\": \"category\",\n        \"num_unique_values\": 91,\n        \"samples\": [\n          \"Credit card - Unsolicited issuance of credit card\",\n          \"Debt collection - Communication tactics\"\n        ],\n        \"semantic_type\": \"\",\n        \"description\": \"\"\n      }\n    }\n  ]\n}"
            }
          },
          "metadata": {},
          "execution_count": 258
        }
      ]
    },
    {
      "cell_type": "code",
      "source": [
        "print(df.columns)"
      ],
      "metadata": {
        "colab": {
          "base_uri": "https://localhost:8080/"
        },
        "id": "oCPuKsoNwvJ6",
        "outputId": "4340e100-d895-4dbe-87a7-419c0890ba0e"
      },
      "execution_count": 259,
      "outputs": [
        {
          "output_type": "stream",
          "name": "stdout",
          "text": [
            "Index([' ID', 'Company', 'Product', 'Issue', 'State', 'Submitted via',\n",
            "       'Date received', 'Date resolved', 'Timely response?',\n",
            "       'Consumer disputed?', 'state name', 'Date received.1',\n",
            "       'Date resolved.1', 'Resolution time(in days)', 'Year', 'QTR (US FLY)',\n",
            "       'Item'],\n",
            "      dtype='object')\n"
          ]
        }
      ]
    },
    {
      "cell_type": "markdown",
      "source": [
        "#Data Preprocessing"
      ],
      "metadata": {
        "id": "pXrqIfGQvxEO"
      }
    },
    {
      "cell_type": "code",
      "source": [
        "df = df.dropna(subset=['Product', 'Issue'])"
      ],
      "metadata": {
        "id": "vXwzgYw6paWr"
      },
      "execution_count": 260,
      "outputs": []
    },
    {
      "cell_type": "code",
      "source": [
        "df['Item'] = df['Product'] + \" - \" + df['Issue'].str.replace(',', '').str.strip()"
      ],
      "metadata": {
        "id": "PlweFKQSzV7p"
      },
      "execution_count": 261,
      "outputs": []
    },
    {
      "cell_type": "code",
      "source": [
        "transactions = load_and_preprocess_data()"
      ],
      "metadata": {
        "id": "fKPu80v0FtvA"
      },
      "execution_count": 262,
      "outputs": []
    },
    {
      "cell_type": "code",
      "source": [
        "te = TransactionEncoder()"
      ],
      "metadata": {
        "id": "lcaKRVopRcuk"
      },
      "execution_count": 263,
      "outputs": []
    },
    {
      "cell_type": "code",
      "source": [
        "te_ary = te.fit(transactions).transform(transactions)"
      ],
      "metadata": {
        "id": "zvzPQodPFtxj"
      },
      "execution_count": 264,
      "outputs": []
    },
    {
      "cell_type": "code",
      "source": [
        "basket = pd.DataFrame(te_ary, columns=te.columns_)"
      ],
      "metadata": {
        "id": "__gpGCBYSDYx"
      },
      "execution_count": 265,
      "outputs": []
    },
    {
      "cell_type": "code",
      "source": [
        "print(basket.head())"
      ],
      "metadata": {
        "colab": {
          "base_uri": "https://localhost:8080/"
        },
        "id": "JPttFhXxZjQO",
        "outputId": "79ba63b4-8863-424c-ed4d-368e814f3c4a"
      },
      "execution_count": 266,
      "outputs": [
        {
          "output_type": "stream",
          "name": "stdout",
          "text": [
            "   Bank account or service - Account opening closing or management  \\\n",
            "0                                               True                 \n",
            "1                                              False                 \n",
            "2                                              False                 \n",
            "3                                              False                 \n",
            "4                                              False                 \n",
            "\n",
            "   Bank account or service - Deposits and withdrawals  \\\n",
            "0                                              False    \n",
            "1                                              False    \n",
            "2                                              False    \n",
            "3                                              False    \n",
            "4                                              False    \n",
            "\n",
            "   Bank account or service - Making/receiving payments sending money  \\\n",
            "0                                              False                   \n",
            "1                                              False                   \n",
            "2                                              False                   \n",
            "3                                              False                   \n",
            "4                                              False                   \n",
            "\n",
            "   Bank account or service - Problems caused by my funds being low  \\\n",
            "0                                              False                 \n",
            "1                                              False                 \n",
            "2                                              False                 \n",
            "3                                              False                 \n",
            "4                                              False                 \n",
            "\n",
            "   Bank account or service - Using a debit or ATM card  \\\n",
            "0                                              False     \n",
            "1                                              False     \n",
            "2                                              False     \n",
            "3                                              False     \n",
            "4                                              False     \n",
            "\n",
            "   Consumer Loan - Account terms and changes  \\\n",
            "0                                      False   \n",
            "1                                      False   \n",
            "2                                      False   \n",
            "3                                      False   \n",
            "4                                      False   \n",
            "\n",
            "   Consumer Loan - Applied for loan/did not receive money  \\\n",
            "0                                              False        \n",
            "1                                              False        \n",
            "2                                              False        \n",
            "3                                              False        \n",
            "4                                              False        \n",
            "\n",
            "   Consumer Loan - Can't contact lender  \\\n",
            "0                                 False   \n",
            "1                                 False   \n",
            "2                                 False   \n",
            "3                                 False   \n",
            "4                                 False   \n",
            "\n",
            "   Consumer Loan - Can't stop charges to bank account  \\\n",
            "0                                              False    \n",
            "1                                              False    \n",
            "2                                              False    \n",
            "3                                              False    \n",
            "4                                              False    \n",
            "\n",
            "   Consumer Loan - Charged fees or interest I didn't expect  ...  \\\n",
            "0                                              False         ...   \n",
            "1                                              False         ...   \n",
            "2                                              False         ...   \n",
            "3                                              False         ...   \n",
            "4                                              False         ...   \n",
            "\n",
            "   Prepaid card - Fees  Prepaid card - Fraud or scam  \\\n",
            "0                False                         False   \n",
            "1                False                         False   \n",
            "2                False                         False   \n",
            "3                False                         False   \n",
            "4                False                         False   \n",
            "\n",
            "   Prepaid card - Managing opening or closing account  \\\n",
            "0                                              False    \n",
            "1                                              False    \n",
            "2                                              False    \n",
            "3                                              False    \n",
            "4                                              False    \n",
            "\n",
            "   Prepaid card - Unauthorized transactions/trans. issues  \\\n",
            "0                                              False        \n",
            "1                                              False        \n",
            "2                                              False        \n",
            "3                                              False        \n",
            "4                                              False        \n",
            "\n",
            "   Student loan - Can't repay my loan  \\\n",
            "0                               False   \n",
            "1                               False   \n",
            "2                               False   \n",
            "3                               False   \n",
            "4                               False   \n",
            "\n",
            "   Student loan - Dealing with my lender or servicer  \\\n",
            "0                                              False   \n",
            "1                                              False   \n",
            "2                                              False   \n",
            "3                                              False   \n",
            "4                                              False   \n",
            "\n",
            "   Student loan - Getting a loan  \\\n",
            "0                          False   \n",
            "1                          False   \n",
            "2                          False   \n",
            "3                          False   \n",
            "4                          False   \n",
            "\n",
            "   Student loan - Problems when you are unable to pay  \\\n",
            "0                                              False    \n",
            "1                                              False    \n",
            "2                                              False    \n",
            "3                                              False    \n",
            "4                                              False    \n",
            "\n",
            "   Student loan - Repaying your loan  Virtual currency - Fraud or scam  \n",
            "0                              False                             False  \n",
            "1                              False                             False  \n",
            "2                              False                             False  \n",
            "3                              False                             False  \n",
            "4                              False                             False  \n",
            "\n",
            "[5 rows x 91 columns]\n"
          ]
        }
      ]
    },
    {
      "cell_type": "markdown",
      "source": [
        "#Apriori and generate rules"
      ],
      "metadata": {
        "id": "nWru8rI2F7Td"
      }
    },
    {
      "cell_type": "code",
      "source": [
        "min_support = 0.001"
      ],
      "metadata": {
        "id": "jHtbR-E_SbJE"
      },
      "execution_count": 267,
      "outputs": []
    },
    {
      "cell_type": "code",
      "source": [
        "min_lift = 0.5"
      ],
      "metadata": {
        "id": "tm4twb6pSfS4"
      },
      "execution_count": 268,
      "outputs": []
    },
    {
      "cell_type": "code",
      "source": [
        "print(f\"Using min_support = {min_support} and min_lift = {min_lift}\")"
      ],
      "metadata": {
        "colab": {
          "base_uri": "https://localhost:8080/"
        },
        "id": "szbAma1ZWCTp",
        "outputId": "7b55bcf2-53ae-42d0-aa4e-0b216d2465bb"
      },
      "execution_count": 269,
      "outputs": [
        {
          "output_type": "stream",
          "name": "stdout",
          "text": [
            "Using min_support = 0.001 and min_lift = 0.5\n"
          ]
        }
      ]
    },
    {
      "cell_type": "code",
      "source": [
        "frequent_itemsets = apriori(basket, min_support=min_support, use_colnames=True)"
      ],
      "metadata": {
        "id": "J9CUTS72Ftzw"
      },
      "execution_count": 270,
      "outputs": []
    },
    {
      "cell_type": "code",
      "source": [
        "print(\"✅ Frequent Itemsets Found:\")\n",
        "if frequent_itemsets.empty:\n",
        "    print(\"⚠️ No frequent itemsets found. Consider lowering `min_support` (e.g., to 0.001).\")\n",
        "else:\n",
        "    print(frequent_itemsets.head(10))\n",
        "print(\"-\" * 50)"
      ],
      "metadata": {
        "colab": {
          "base_uri": "https://localhost:8080/"
        },
        "id": "2TBlovl0SsLV",
        "outputId": "f2556fae-858e-4635-f0ef-e9f0202cd73a"
      },
      "execution_count": 271,
      "outputs": [
        {
          "output_type": "stream",
          "name": "stdout",
          "text": [
            "✅ Frequent Itemsets Found:\n",
            "    support                                           itemsets\n",
            "0  0.074786  (Bank account or service - Account opening clo...\n",
            "1  0.044143  (Bank account or service - Deposits and withdr...\n",
            "2  0.014929  (Bank account or service - Making/receiving pa...\n",
            "3  0.026286  (Bank account or service - Problems caused by ...\n",
            "4  0.013357  (Bank account or service - Using a debit or AT...\n",
            "5  0.001286        (Consumer Loan - Account terms and changes)\n",
            "6  0.030214       (Consumer Loan - Managing the loan or lease)\n",
            "7  0.015286  (Consumer Loan - Problems when you are unable ...\n",
            "8  0.003714     (Consumer Loan - Shopping for a loan or lease)\n",
            "9  0.009286     (Consumer Loan - Taking out the loan or lease)\n",
            "--------------------------------------------------\n"
          ]
        }
      ]
    },
    {
      "cell_type": "code",
      "source": [
        "rules = association_rules(frequent_itemsets, metric=\"lift\", min_threshold=min_lift).sort_values('lift', ascending=False)"
      ],
      "metadata": {
        "id": "tMzJIXePWPoq"
      },
      "execution_count": 272,
      "outputs": []
    },
    {
      "cell_type": "markdown",
      "source": [
        "#Interpreting and Analyzing Results"
      ],
      "metadata": {
        "id": "6kY3DXb_WUht"
      }
    },
    {
      "cell_type": "code",
      "source": [
        "print(\"Top Frequent Itemsets:\\n\", frequent_itemsets.head())"
      ],
      "metadata": {
        "colab": {
          "base_uri": "https://localhost:8080/"
        },
        "id": "B2bhqVPbJiuR",
        "outputId": "36af3957-3447-4850-d896-dbc3adb22747"
      },
      "execution_count": 273,
      "outputs": [
        {
          "output_type": "stream",
          "name": "stdout",
          "text": [
            "Top Frequent Itemsets:\n",
            "     support                                           itemsets\n",
            "0  0.074786  (Bank account or service - Account opening clo...\n",
            "1  0.044143  (Bank account or service - Deposits and withdr...\n",
            "2  0.014929  (Bank account or service - Making/receiving pa...\n",
            "3  0.026286  (Bank account or service - Problems caused by ...\n",
            "4  0.013357  (Bank account or service - Using a debit or AT...\n"
          ]
        }
      ]
    },
    {
      "cell_type": "code",
      "source": [
        "if not rules.empty:\n",
        "    # ✅ Interactive Bar Plot of Top Rules by Lift (Plotly)\n",
        "    print(\"📊 Interactive Bar Plot of Top Rules by Lift:\")\n",
        "    top_rules = rules.head(10)\n",
        "    fig_bar = px.bar(\n",
        "        top_rules,\n",
        "        x='lift',\n",
        "        y='Rule',\n",
        "        color='confidence',\n",
        "        labels={'lift': 'Lift', 'Rule': 'Rule'},\n",
        "        title=\"Top 10 Association Rules by Lift\",\n",
        "        height=600\n",
        "    )\n",
        "    fig_bar.update_layout(xaxis_title=\"Lift\", yaxis_title=\"Rule\", showlegend=True)\n",
        "    fig_bar.show()"
      ],
      "metadata": {
        "id": "AG0RR4MWWfPS"
      },
      "execution_count": 274,
      "outputs": []
    },
    {
      "cell_type": "markdown",
      "source": [
        "Analysis:\n",
        "- **Patterns**: Rules with high lift (e.g., > 2) indicate strong co-occurrences of issues within the same product (e.g., servicing issues leading to late fees in mortgages).\n",
        "- **Actionable Insights**:\n",
        "  - High lift between 'Mortgage - Loan servicing payments escrow account' and 'Mortgage - Late fee' suggests improving loan servicing to reduce payment disputes.\n",
        "  - Rules involving 'Debt collection' with high lift may indicate aggressive practices, warranting regulatory review."
      ],
      "metadata": {
        "id": "kpV9XO7GWmQK"
      }
    },
    {
      "cell_type": "markdown",
      "source": [
        "#Visualize results"
      ],
      "metadata": {
        "id": "C0vdxMLTHPtV"
      }
    },
    {
      "cell_type": "markdown",
      "source": [
        "##Interactive Scatter Plot of Confidence vs. Lift:"
      ],
      "metadata": {
        "id": "4858bivtHUO7"
      }
    },
    {
      "cell_type": "code",
      "source": [
        "if not rules.empty:\n",
        "    # ✅ Interactive Bar Plot of Top Rules by Lift (Plotly)\n",
        "    print(\"📊 Interactive Bar Plot of Top Rules by Lift:\")\n",
        "    top_rules = rules.head(10)\n",
        "    fig_bar = px.bar(\n",
        "        top_rules,\n",
        "        x='lift',\n",
        "        y='Rule',\n",
        "        color='confidence',\n",
        "        labels={'lift': 'Lift', 'Rule': 'Rule'},\n",
        "        title=\"Top 10 Association Rules by Lift\",\n",
        "        height=600\n",
        "    )\n",
        "    fig_bar.update_layout(xaxis_title=\"Lift\", yaxis_title=\"Rule\", showlegend=True)\n",
        "    fig_bar.show()\n"
      ],
      "metadata": {
        "id": "atebTBwGFt9h"
      },
      "execution_count": 275,
      "outputs": []
    },
    {
      "cell_type": "code",
      "source": [
        "rules['Rule'] = rules['antecedents'].astype(str) + \" → \" + rules['consequents'].astype(str)"
      ],
      "metadata": {
        "id": "z20pnav-XEQF"
      },
      "execution_count": 276,
      "outputs": []
    },
    {
      "cell_type": "code",
      "source": [
        "    fig_scatter = px.scatter(\n",
        "        rules.head(50),\n",
        "        x='confidence',\n",
        "        y='lift',\n",
        "        size='support',\n",
        "        color='lift',\n",
        "        hover_data=['Rule'],\n",
        "        title=\"Association Rules: Confidence vs. Lift (Bubble Size = Support)\",\n",
        "        height=600\n",
        "    )\n",
        "    fig_scatter.show()"
      ],
      "metadata": {
        "colab": {
          "base_uri": "https://localhost:8080/",
          "height": 617
        },
        "id": "ia6UtgecTDjk",
        "outputId": "0cd72db1-feb1-4ef7-ae56-073fb53b6103"
      },
      "execution_count": 277,
      "outputs": [
        {
          "output_type": "display_data",
          "data": {
            "text/html": [
              "<html>\n",
              "<head><meta charset=\"utf-8\" /></head>\n",
              "<body>\n",
              "    <div>            <script src=\"https://cdnjs.cloudflare.com/ajax/libs/mathjax/2.7.5/MathJax.js?config=TeX-AMS-MML_SVG\"></script><script type=\"text/javascript\">if (window.MathJax && window.MathJax.Hub && window.MathJax.Hub.Config) {window.MathJax.Hub.Config({SVG: {font: \"STIX-Web\"}});}</script>                <script type=\"text/javascript\">window.PlotlyConfig = {MathJaxConfig: 'local'};</script>\n",
              "        <script charset=\"utf-8\" src=\"https://cdn.plot.ly/plotly-2.35.2.min.js\"></script>                <div id=\"a540a854-c765-439f-b19c-85ef6ec053e3\" class=\"plotly-graph-div\" style=\"height:600px; width:100%;\"></div>            <script type=\"text/javascript\">                                    window.PLOTLYENV=window.PLOTLYENV || {};                                    if (document.getElementById(\"a540a854-c765-439f-b19c-85ef6ec053e3\")) {                    Plotly.newPlot(                        \"a540a854-c765-439f-b19c-85ef6ec053e3\",                        [],                        {\"template\":{\"data\":{\"candlestick\":[{\"decreasing\":{\"line\":{\"color\":\"#000033\"}},\"increasing\":{\"line\":{\"color\":\"#000032\"}},\"type\":\"candlestick\"}],\"contourcarpet\":[{\"colorscale\":[[0.0,\"#000011\"],[0.1111111111111111,\"#000012\"],[0.2222222222222222,\"#000013\"],[0.3333333333333333,\"#000014\"],[0.4444444444444444,\"#000015\"],[0.5555555555555556,\"#000016\"],[0.6666666666666666,\"#000017\"],[0.7777777777777778,\"#000018\"],[0.8888888888888888,\"#000019\"],[1.0,\"#000020\"]],\"type\":\"contourcarpet\"}],\"contour\":[{\"colorscale\":[[0.0,\"#000011\"],[0.1111111111111111,\"#000012\"],[0.2222222222222222,\"#000013\"],[0.3333333333333333,\"#000014\"],[0.4444444444444444,\"#000015\"],[0.5555555555555556,\"#000016\"],[0.6666666666666666,\"#000017\"],[0.7777777777777778,\"#000018\"],[0.8888888888888888,\"#000019\"],[1.0,\"#000020\"]],\"type\":\"contour\"}],\"heatmap\":[{\"colorscale\":[[0.0,\"#000011\"],[0.1111111111111111,\"#000012\"],[0.2222222222222222,\"#000013\"],[0.3333333333333333,\"#000014\"],[0.4444444444444444,\"#000015\"],[0.5555555555555556,\"#000016\"],[0.6666666666666666,\"#000017\"],[0.7777777777777778,\"#000018\"],[0.8888888888888888,\"#000019\"],[1.0,\"#000020\"]],\"type\":\"heatmap\"}],\"histogram2d\":[{\"colorscale\":[[0.0,\"#000011\"],[0.1111111111111111,\"#000012\"],[0.2222222222222222,\"#000013\"],[0.3333333333333333,\"#000014\"],[0.4444444444444444,\"#000015\"],[0.5555555555555556,\"#000016\"],[0.6666666666666666,\"#000017\"],[0.7777777777777778,\"#000018\"],[0.8888888888888888,\"#000019\"],[1.0,\"#000020\"]],\"type\":\"histogram2d\"}],\"icicle\":[{\"textfont\":{\"color\":\"white\"},\"type\":\"icicle\"}],\"sankey\":[{\"textfont\":{\"color\":\"#000036\"},\"type\":\"sankey\"}],\"scatter\":[{\"marker\":{\"line\":{\"width\":0}},\"type\":\"scatter\"}],\"table\":[{\"cells\":{\"fill\":{\"color\":\"#000038\"},\"font\":{\"color\":\"#000037\"},\"line\":{\"color\":\"#000039\"}},\"header\":{\"fill\":{\"color\":\"#000040\"},\"font\":{\"color\":\"#000036\"},\"line\":{\"color\":\"#000039\"}},\"type\":\"table\"}],\"waterfall\":[{\"connector\":{\"line\":{\"color\":\"#000036\",\"width\":2}},\"decreasing\":{\"marker\":{\"color\":\"#000033\"}},\"increasing\":{\"marker\":{\"color\":\"#000032\"}},\"totals\":{\"marker\":{\"color\":\"#000034\"}},\"type\":\"waterfall\"}]},\"layout\":{\"coloraxis\":{\"colorscale\":[[0.0,\"#000011\"],[0.1111111111111111,\"#000012\"],[0.2222222222222222,\"#000013\"],[0.3333333333333333,\"#000014\"],[0.4444444444444444,\"#000015\"],[0.5555555555555556,\"#000016\"],[0.6666666666666666,\"#000017\"],[0.7777777777777778,\"#000018\"],[0.8888888888888888,\"#000019\"],[1.0,\"#000020\"]]},\"colorscale\":{\"diverging\":[[0.0,\"#000021\"],[0.1,\"#000022\"],[0.2,\"#000023\"],[0.3,\"#000024\"],[0.4,\"#000025\"],[0.5,\"#000026\"],[0.6,\"#000027\"],[0.7,\"#000028\"],[0.8,\"#000029\"],[0.9,\"#000030\"],[1.0,\"#000031\"]],\"sequential\":[[0.0,\"#000011\"],[0.1111111111111111,\"#000012\"],[0.2222222222222222,\"#000013\"],[0.3333333333333333,\"#000014\"],[0.4444444444444444,\"#000015\"],[0.5555555555555556,\"#000016\"],[0.6666666666666666,\"#000017\"],[0.7777777777777778,\"#000018\"],[0.8888888888888888,\"#000019\"],[1.0,\"#000020\"]],\"sequentialminus\":[[0.0,\"#000011\"],[0.1111111111111111,\"#000012\"],[0.2222222222222222,\"#000013\"],[0.3333333333333333,\"#000014\"],[0.4444444444444444,\"#000015\"],[0.5555555555555556,\"#000016\"],[0.6666666666666666,\"#000017\"],[0.7777777777777778,\"#000018\"],[0.8888888888888888,\"#000019\"],[1.0,\"#000020\"]]},\"colorway\":[\"#000001\",\"#000002\",\"#000003\",\"#000004\",\"#000005\",\"#000006\",\"#000007\",\"#000008\",\"#000009\",\"#000010\"]}},\"xaxis\":{\"anchor\":\"y\",\"domain\":[0.0,1.0],\"title\":{\"text\":\"confidence\"}},\"yaxis\":{\"anchor\":\"x\",\"domain\":[0.0,1.0],\"title\":{\"text\":\"lift\"},\"categoryorder\":\"array\",\"categoryarray\":[]},\"legend\":{\"tracegroupgap\":0,\"itemsizing\":\"constant\"},\"title\":{\"text\":\"Association Rules: Confidence vs. Lift (Bubble Size = Support)\"},\"height\":600},                        {\"responsive\": true}                    ).then(function(){\n",
              "                            \n",
              "var gd = document.getElementById('a540a854-c765-439f-b19c-85ef6ec053e3');\n",
              "var x = new MutationObserver(function (mutations, observer) {{\n",
              "        var display = window.getComputedStyle(gd).display;\n",
              "        if (!display || display === 'none') {{\n",
              "            console.log([gd, 'removed!']);\n",
              "            Plotly.purge(gd);\n",
              "            observer.disconnect();\n",
              "        }}\n",
              "}});\n",
              "\n",
              "// Listen for the removal of the full notebook cells\n",
              "var notebookContainer = gd.closest('#notebook-container');\n",
              "if (notebookContainer) {{\n",
              "    x.observe(notebookContainer, {childList: true});\n",
              "}}\n",
              "\n",
              "// Listen for the clearing of the current output cell\n",
              "var outputEl = gd.closest('.output');\n",
              "if (outputEl) {{\n",
              "    x.observe(outputEl, {childList: true});\n",
              "}}\n",
              "\n",
              "                        })                };                            </script>        </div>\n",
              "</body>\n",
              "</html>"
            ]
          },
          "metadata": {}
        }
      ]
    },
    {
      "cell_type": "markdown",
      "source": [
        "##Static Plot: Frequency of Top Items"
      ],
      "metadata": {
        "id": "bpLUW47WYTYe"
      }
    },
    {
      "cell_type": "code",
      "source": [
        "item_frequencies = basket.sum().sort_values(ascending=False).head(10)"
      ],
      "metadata": {
        "id": "a46BX0zAFuCm"
      },
      "execution_count": 278,
      "outputs": []
    },
    {
      "cell_type": "code",
      "source": [
        "plt.figure(figsize=(10, 6))\n",
        "sns.barplot(x=item_frequencies.values, y=item_frequencies.index, palette=\"viridis\")\n",
        "plt.title(\"Top 10 Most Frequent Items in Complaints\")\n",
        "plt.xlabel(\"Frequency\")\n",
        "plt.ylabel(\"Item\")\n",
        "plt.show()"
      ],
      "metadata": {
        "colab": {
          "base_uri": "https://localhost:8080/",
          "height": 685
        },
        "id": "8b6j7rCFFuEr",
        "outputId": "2f85ce47-38c7-4c07-88c9-815d55e8ed30"
      },
      "execution_count": 239,
      "outputs": [
        {
          "output_type": "stream",
          "name": "stderr",
          "text": [
            "<ipython-input-239-bf31cd01c2d4>:2: FutureWarning:\n",
            "\n",
            "\n",
            "\n",
            "Passing `palette` without assigning `hue` is deprecated and will be removed in v0.14.0. Assign the `y` variable to `hue` and set `legend=False` for the same effect.\n",
            "\n",
            "\n"
          ]
        },
        {
          "output_type": "display_data",
          "data": {
            "text/plain": [
              "<Figure size 1000x600 with 1 Axes>"
            ],
            "image/png": "[encoded data removed]"
          },
          "metadata": {}
        }
      ]
    }
  ]
}