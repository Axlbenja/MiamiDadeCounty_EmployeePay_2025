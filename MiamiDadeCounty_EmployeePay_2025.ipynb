{
  "nbformat": 4,
  "nbformat_minor": 0,
  "metadata": {
    "colab": {
      "provenance": [],
      "mount_file_id": "1EBhCznF-38gy5P5dS_aKbHT5yc6a65FP",
      "authorship_tag": "ABX9TyOCsUhAkTF77jgxCtcCAEtS",
      "include_colab_link": true
    },
    "kernelspec": {
      "name": "python3",
      "display_name": "Python 3"
    },
    "language_info": {
      "name": "python"
    }
  },
  "cells": [
    {
      "cell_type": "markdown",
      "metadata": {
        "id": "view-in-github",
        "colab_type": "text"
      },
      "source": [
        "<a href=\"https://colab.research.google.com/github/Axlbenja/MiamiDadeCounty_EmployeePay_2025/blob/main/MiamiDadeCounty_EmployeePay_2025.ipynb\" target=\"_parent\"><img src=\"https://colab.research.google.com/assets/colab-badge.svg\" alt=\"Open In Colab\"/></a>"
      ]
    },
    {
      "cell_type": "code",
      "execution_count": 85,
      "metadata": {
        "id": "3PrjhZa6wAdc"
      },
      "outputs": [],
      "source": [
        "import pandas as pd\n",
        "import matplotlib.pyplot as plt\n",
        "import seaborn as sns\n",
        "import numpy as np\n",
        "from scipy.stats.mstats import winsorize\n",
        "from scipy.stats import zscore"
      ]
    },
    {
      "cell_type": "code",
      "source": [
        "df = pd.read_csv('https://raw.githubusercontent.com/Axlbenja/MiamiDadeCounty_EmployeePay_2025/main/MiamiDadeCounty_EmployeePay_2025.csv', sep=',')"
      ],
      "metadata": {
        "id": "JiV2etYDF_2s"
      },
      "execution_count": 86,
      "outputs": []
    },
    {
      "cell_type": "code",
      "source": [
        "df.head()\n"
      ],
      "metadata": {
        "colab": {
          "base_uri": "https://localhost:8080/",
          "height": 276
        },
        "id": "HoAC54003Szw",
        "outputId": "119ab3d4-2bfc-4437-8d98-963a4d76afcb"
      },
      "execution_count": 87,
      "outputs": [
        {
          "output_type": "execute_result",
          "data": {
            "text/plain": [
              "  LastName FirstName MiddleInitial                        Title  \\\n",
              "0      LUC   AUNDREA             S  WASTE ENFORCEMENT OFFICER 1   \n",
              "1      LUE    KEISHA         RENEE   SHARED SERVICES SPECIALIST   \n",
              "2      LUO       SEI             Y                    SECRETARY   \n",
              "3      LYS   JACQUES             E    DTPW SERVICE SPECIALIST 2   \n",
              "4      MAS      JOSE             R       RER PERMIT & PLANS REP   \n",
              "\n",
              "                         DeptName  AnnualSalary  GrossPayLastPaycheck  \\\n",
              "0          SOLID WASTE MANAGEMENT     81592.186               9359.04   \n",
              "1                 HUMAN RESOURCES     56423.161               2756.12   \n",
              "2                          POLICE     40767.761               1640.86   \n",
              "3   TRANSPORTATION & PUBLIC WORKS     87534.450               3410.16   \n",
              "4  REGULATORY & ECONOMIC RESOURCE     59237.468               2321.84   \n",
              "\n",
              "   GrossYTD  ObjectId  \n",
              "0   9359.04         1  \n",
              "1   2756.12         2  \n",
              "2   1640.86         3  \n",
              "3   3410.16         4  \n",
              "4   2321.84         5  "
            ],
            "text/html": [
              "\n",
              "  <div id=\"df-3afdeacc-8d02-4138-95c8-748d7160d1f9\" class=\"colab-df-container\">\n",
              "    <div>\n",
              "<style scoped>\n",
              "    .dataframe tbody tr th:only-of-type {\n",
              "        vertical-align: middle;\n",
              "    }\n",
              "\n",
              "    .dataframe tbody tr th {\n",
              "        vertical-align: top;\n",
              "    }\n",
              "\n",
              "    .dataframe thead th {\n",
              "        text-align: right;\n",
              "    }\n",
              "</style>\n",
              "<table border=\"1\" class=\"dataframe\">\n",
              "  <thead>\n",
              "    <tr style=\"text-align: right;\">\n",
              "      <th></th>\n",
              "      <th>LastName</th>\n",
              "      <th>FirstName</th>\n",
              "      <th>MiddleInitial</th>\n",
              "      <th>Title</th>\n",
              "      <th>DeptName</th>\n",
              "      <th>AnnualSalary</th>\n",
              "      <th>GrossPayLastPaycheck</th>\n",
              "      <th>GrossYTD</th>\n",
              "      <th>ObjectId</th>\n",
              "    </tr>\n",
              "  </thead>\n",
              "  <tbody>\n",
              "    <tr>\n",
              "      <th>0</th>\n",
              "      <td>LUC</td>\n",
              "      <td>AUNDREA</td>\n",
              "      <td>S</td>\n",
              "      <td>WASTE ENFORCEMENT OFFICER 1</td>\n",
              "      <td>SOLID WASTE MANAGEMENT</td>\n",
              "      <td>81592.186</td>\n",
              "      <td>9359.04</td>\n",
              "      <td>9359.04</td>\n",
              "      <td>1</td>\n",
              "    </tr>\n",
              "    <tr>\n",
              "      <th>1</th>\n",
              "      <td>LUE</td>\n",
              "      <td>KEISHA</td>\n",
              "      <td>RENEE</td>\n",
              "      <td>SHARED SERVICES SPECIALIST</td>\n",
              "      <td>HUMAN RESOURCES</td>\n",
              "      <td>56423.161</td>\n",
              "      <td>2756.12</td>\n",
              "      <td>2756.12</td>\n",
              "      <td>2</td>\n",
              "    </tr>\n",
              "    <tr>\n",
              "      <th>2</th>\n",
              "      <td>LUO</td>\n",
              "      <td>SEI</td>\n",
              "      <td>Y</td>\n",
              "      <td>SECRETARY</td>\n",
              "      <td>POLICE</td>\n",
              "      <td>40767.761</td>\n",
              "      <td>1640.86</td>\n",
              "      <td>1640.86</td>\n",
              "      <td>3</td>\n",
              "    </tr>\n",
              "    <tr>\n",
              "      <th>3</th>\n",
              "      <td>LYS</td>\n",
              "      <td>JACQUES</td>\n",
              "      <td>E</td>\n",
              "      <td>DTPW SERVICE SPECIALIST 2</td>\n",
              "      <td>TRANSPORTATION &amp; PUBLIC WORKS</td>\n",
              "      <td>87534.450</td>\n",
              "      <td>3410.16</td>\n",
              "      <td>3410.16</td>\n",
              "      <td>4</td>\n",
              "    </tr>\n",
              "    <tr>\n",
              "      <th>4</th>\n",
              "      <td>MAS</td>\n",
              "      <td>JOSE</td>\n",
              "      <td>R</td>\n",
              "      <td>RER PERMIT &amp; PLANS REP</td>\n",
              "      <td>REGULATORY &amp; ECONOMIC RESOURCE</td>\n",
              "      <td>59237.468</td>\n",
              "      <td>2321.84</td>\n",
              "      <td>2321.84</td>\n",
              "      <td>5</td>\n",
              "    </tr>\n",
              "  </tbody>\n",
              "</table>\n",
              "</div>\n",
              "    <div class=\"colab-df-buttons\">\n",
              "\n",
              "  <div class=\"colab-df-container\">\n",
              "    <button class=\"colab-df-convert\" onclick=\"convertToInteractive('df-3afdeacc-8d02-4138-95c8-748d7160d1f9')\"\n",
              "            title=\"Convert this dataframe to an interactive table.\"\n",
              "            style=\"display:none;\">\n",
              "\n",
              "  <svg xmlns=\"http://www.w3.org/2000/svg\" height=\"24px\" viewBox=\"0 -960 960 960\">\n",
              "    <path d=\"M120-120v-720h720v720H120Zm60-500h600v-160H180v160Zm220 220h160v-160H400v160Zm0 220h160v-160H400v160ZM180-400h160v-160H180v160Zm440 0h160v-160H620v160ZM180-180h160v-160H180v160Zm440 0h160v-160H620v160Z\"/>\n",
              "  </svg>\n",
              "    </button>\n",
              "\n",
              "  <style>\n",
              "    .colab-df-container {\n",
              "      display:flex;\n",
              "      gap: 12px;\n",
              "    }\n",
              "\n",
              "    .colab-df-convert {\n",
              "      background-color: #E8F0FE;\n",
              "      border: none;\n",
              "      border-radius: 50%;\n",
              "      cursor: pointer;\n",
              "      display: none;\n",
              "      fill: #1967D2;\n",
              "      height: 32px;\n",
              "      padding: 0 0 0 0;\n",
              "      width: 32px;\n",
              "    }\n",
              "\n",
              "    .colab-df-convert:hover {\n",
              "      background-color: #E2EBFA;\n",
              "      box-shadow: 0px 1px 2px rgba(60, 64, 67, 0.3), 0px 1px 3px 1px rgba(60, 64, 67, 0.15);\n",
              "      fill: #174EA6;\n",
              "    }\n",
              "\n",
              "    .colab-df-buttons div {\n",
              "      margin-bottom: 4px;\n",
              "    }\n",
              "\n",
              "    [theme=dark] .colab-df-convert {\n",
              "      background-color: #3B4455;\n",
              "      fill: #D2E3FC;\n",
              "    }\n",
              "\n",
              "    [theme=dark] .colab-df-convert:hover {\n",
              "      background-color: #434B5C;\n",
              "      box-shadow: 0px 1px 3px 1px rgba(0, 0, 0, 0.15);\n",
              "      filter: drop-shadow(0px 1px 2px rgba(0, 0, 0, 0.3));\n",
              "      fill: #FFFFFF;\n",
              "    }\n",
              "  </style>\n",
              "\n",
              "    <script>\n",
              "      const buttonEl =\n",
              "        document.querySelector('#df-3afdeacc-8d02-4138-95c8-748d7160d1f9 button.colab-df-convert');\n",
              "      buttonEl.style.display =\n",
              "        google.colab.kernel.accessAllowed ? 'block' : 'none';\n",
              "\n",
              "      async function convertToInteractive(key) {\n",
              "        const element = document.querySelector('#df-3afdeacc-8d02-4138-95c8-748d7160d1f9');\n",
              "        const dataTable =\n",
              "          await google.colab.kernel.invokeFunction('convertToInteractive',\n",
              "                                                    [key], {});\n",
              "        if (!dataTable) return;\n",
              "\n",
              "        const docLinkHtml = 'Like what you see? Visit the ' +\n",
              "          '<a target=\"_blank\" href=https://colab.research.google.com/notebooks/data_table.ipynb>data table notebook</a>'\n",
              "          + ' to learn more about interactive tables.';\n",
              "        element.innerHTML = '';\n",
              "        dataTable['output_type'] = 'display_data';\n",
              "        await google.colab.output.renderOutput(dataTable, element);\n",
              "        const docLink = document.createElement('div');\n",
              "        docLink.innerHTML = docLinkHtml;\n",
              "        element.appendChild(docLink);\n",
              "      }\n",
              "    </script>\n",
              "  </div>\n",
              "\n",
              "\n",
              "<div id=\"df-e3639cbf-e983-4e28-9d2b-b377f924b30b\">\n",
              "  <button class=\"colab-df-quickchart\" onclick=\"quickchart('df-e3639cbf-e983-4e28-9d2b-b377f924b30b')\"\n",
              "            title=\"Suggest charts\"\n",
              "            style=\"display:none;\">\n",
              "\n",
              "<svg xmlns=\"http://www.w3.org/2000/svg\" height=\"24px\"viewBox=\"0 0 24 24\"\n",
              "     width=\"24px\">\n",
              "    <g>\n",
              "        <path d=\"M19 3H5c-1.1 0-2 .9-2 2v14c0 1.1.9 2 2 2h14c1.1 0 2-.9 2-2V5c0-1.1-.9-2-2-2zM9 17H7v-7h2v7zm4 0h-2V7h2v10zm4 0h-2v-4h2v4z\"/>\n",
              "    </g>\n",
              "</svg>\n",
              "  </button>\n",
              "\n",
              "<style>\n",
              "  .colab-df-quickchart {\n",
              "      --bg-color: #E8F0FE;\n",
              "      --fill-color: #1967D2;\n",
              "      --hover-bg-color: #E2EBFA;\n",
              "      --hover-fill-color: #174EA6;\n",
              "      --disabled-fill-color: #AAA;\n",
              "      --disabled-bg-color: #DDD;\n",
              "  }\n",
              "\n",
              "  [theme=dark] .colab-df-quickchart {\n",
              "      --bg-color: #3B4455;\n",
              "      --fill-color: #D2E3FC;\n",
              "      --hover-bg-color: #434B5C;\n",
              "      --hover-fill-color: #FFFFFF;\n",
              "      --disabled-bg-color: #3B4455;\n",
              "      --disabled-fill-color: #666;\n",
              "  }\n",
              "\n",
              "  .colab-df-quickchart {\n",
              "    background-color: var(--bg-color);\n",
              "    border: none;\n",
              "    border-radius: 50%;\n",
              "    cursor: pointer;\n",
              "    display: none;\n",
              "    fill: var(--fill-color);\n",
              "    height: 32px;\n",
              "    padding: 0;\n",
              "    width: 32px;\n",
              "  }\n",
              "\n",
              "  .colab-df-quickchart:hover {\n",
              "    background-color: var(--hover-bg-color);\n",
              "    box-shadow: 0 1px 2px rgba(60, 64, 67, 0.3), 0 1px 3px 1px rgba(60, 64, 67, 0.15);\n",
              "    fill: var(--button-hover-fill-color);\n",
              "  }\n",
              "\n",
              "  .colab-df-quickchart-complete:disabled,\n",
              "  .colab-df-quickchart-complete:disabled:hover {\n",
              "    background-color: var(--disabled-bg-color);\n",
              "    fill: var(--disabled-fill-color);\n",
              "    box-shadow: none;\n",
              "  }\n",
              "\n",
              "  .colab-df-spinner {\n",
              "    border: 2px solid var(--fill-color);\n",
              "    border-color: transparent;\n",
              "    border-bottom-color: var(--fill-color);\n",
              "    animation:\n",
              "      spin 1s steps(1) infinite;\n",
              "  }\n",
              "\n",
              "  @keyframes spin {\n",
              "    0% {\n",
              "      border-color: transparent;\n",
              "      border-bottom-color: var(--fill-color);\n",
              "      border-left-color: var(--fill-color);\n",
              "    }\n",
              "    20% {\n",
              "      border-color: transparent;\n",
              "      border-left-color: var(--fill-color);\n",
              "      border-top-color: var(--fill-color);\n",
              "    }\n",
              "    30% {\n",
              "      border-color: transparent;\n",
              "      border-left-color: var(--fill-color);\n",
              "      border-top-color: var(--fill-color);\n",
              "      border-right-color: var(--fill-color);\n",
              "    }\n",
              "    40% {\n",
              "      border-color: transparent;\n",
              "      border-right-color: var(--fill-color);\n",
              "      border-top-color: var(--fill-color);\n",
              "    }\n",
              "    60% {\n",
              "      border-color: transparent;\n",
              "      border-right-color: var(--fill-color);\n",
              "    }\n",
              "    80% {\n",
              "      border-color: transparent;\n",
              "      border-right-color: var(--fill-color);\n",
              "      border-bottom-color: var(--fill-color);\n",
              "    }\n",
              "    90% {\n",
              "      border-color: transparent;\n",
              "      border-bottom-color: var(--fill-color);\n",
              "    }\n",
              "  }\n",
              "</style>\n",
              "\n",
              "  <script>\n",
              "    async function quickchart(key) {\n",
              "      const quickchartButtonEl =\n",
              "        document.querySelector('#' + key + ' button');\n",
              "      quickchartButtonEl.disabled = true;  // To prevent multiple clicks.\n",
              "      quickchartButtonEl.classList.add('colab-df-spinner');\n",
              "      try {\n",
              "        const charts = await google.colab.kernel.invokeFunction(\n",
              "            'suggestCharts', [key], {});\n",
              "      } catch (error) {\n",
              "        console.error('Error during call to suggestCharts:', error);\n",
              "      }\n",
              "      quickchartButtonEl.classList.remove('colab-df-spinner');\n",
              "      quickchartButtonEl.classList.add('colab-df-quickchart-complete');\n",
              "    }\n",
              "    (() => {\n",
              "      let quickchartButtonEl =\n",
              "        document.querySelector('#df-e3639cbf-e983-4e28-9d2b-b377f924b30b button');\n",
              "      quickchartButtonEl.style.display =\n",
              "        google.colab.kernel.accessAllowed ? 'block' : 'none';\n",
              "    })();\n",
              "  </script>\n",
              "</div>\n",
              "\n",
              "    </div>\n",
              "  </div>\n"
            ],
            "application/vnd.google.colaboratory.intrinsic+json": {
              "type": "dataframe",
              "variable_name": "df",
              "summary": "{\n  \"name\": \"df\",\n  \"rows\": 30080,\n  \"fields\": [\n    {\n      \"column\": \"LastName\",\n      \"properties\": {\n        \"dtype\": \"category\",\n        \"num_unique_values\": 11637,\n        \"samples\": [\n          \"PIERCE\",\n          \"BOZEMAN\",\n          \"HOSEIN\"\n        ],\n        \"semantic_type\": \"\",\n        \"description\": \"\"\n      }\n    },\n    {\n      \"column\": \"FirstName\",\n      \"properties\": {\n        \"dtype\": \"category\",\n        \"num_unique_values\": 8177,\n        \"samples\": [\n          \"CORNELIUS\",\n          \"LAQUINTIYA\",\n          \"JHONNATAN\"\n        ],\n        \"semantic_type\": \"\",\n        \"description\": \"\"\n      }\n    },\n    {\n      \"column\": \"MiddleInitial\",\n      \"properties\": {\n        \"dtype\": \"category\",\n        \"num_unique_values\": 1304,\n        \"samples\": [\n          \"LIVAN\",\n          \"ELYSE\",\n          \"RUBY\"\n        ],\n        \"semantic_type\": \"\",\n        \"description\": \"\"\n      }\n    },\n    {\n      \"column\": \"Title\",\n      \"properties\": {\n        \"dtype\": \"category\",\n        \"num_unique_values\": 2666,\n        \"samples\": [\n          \"ISD CF EFF AND COMP OFC\",\n          \"PROS CHIEF, PLAN, RES & GRANTS\",\n          \"DTPW ELECTRONIC TECH/RADIO\"\n        ],\n        \"semantic_type\": \"\",\n        \"description\": \"\"\n      }\n    },\n    {\n      \"column\": \"DeptName\",\n      \"properties\": {\n        \"dtype\": \"category\",\n        \"num_unique_values\": 44,\n        \"samples\": [\n          \"CAREERSOURCE SOUTH FLORIDA\",\n          \"BOARD OF COUNTY COMMISSIONERS\",\n          \"TAX COLLECTOR\"\n        ],\n        \"semantic_type\": \"\",\n        \"description\": \"\"\n      }\n    },\n    {\n      \"column\": \"AnnualSalary\",\n      \"properties\": {\n        \"dtype\": \"number\",\n        \"std\": 38386.2827566273,\n        \"min\": 2340.0,\n        \"max\": 405012.307,\n        \"num_unique_values\": 8588,\n        \"samples\": [\n          80131.806,\n          108882.858,\n          106819.96\n        ],\n        \"semantic_type\": \"\",\n        \"description\": \"\"\n      }\n    },\n    {\n      \"column\": \"GrossPayLastPaycheck\",\n      \"properties\": {\n        \"dtype\": \"number\",\n        \"std\": 2303.8503910720224,\n        \"min\": 0.01,\n        \"max\": 77566.74,\n        \"num_unique_values\": 20806,\n        \"samples\": [\n          3222.0,\n          10498.72,\n          4474.91\n        ],\n        \"semantic_type\": \"\",\n        \"description\": \"\"\n      }\n    },\n    {\n      \"column\": \"GrossYTD\",\n      \"properties\": {\n        \"dtype\": \"number\",\n        \"std\": 4069.977668726483,\n        \"min\": 0.01,\n        \"max\": 473784.33,\n        \"num_unique_values\": 20935,\n        \"samples\": [\n          6830.26,\n          2551.87,\n          6218.38\n        ],\n        \"semantic_type\": \"\",\n        \"description\": \"\"\n      }\n    },\n    {\n      \"column\": \"ObjectId\",\n      \"properties\": {\n        \"dtype\": \"number\",\n        \"std\": 8683,\n        \"min\": 1,\n        \"max\": 30080,\n        \"num_unique_values\": 30080,\n        \"samples\": [\n          29496,\n          20360,\n          17969\n        ],\n        \"semantic_type\": \"\",\n        \"description\": \"\"\n      }\n    }\n  ]\n}"
            }
          },
          "metadata": {},
          "execution_count": 87
        }
      ]
    },
    {
      "cell_type": "code",
      "source": [
        "print(df.columns)"
      ],
      "metadata": {
        "colab": {
          "base_uri": "https://localhost:8080/"
        },
        "id": "KOpsU_iV3sD_",
        "outputId": "d088a362-928d-4530-f9d7-0476b0b9f5de"
      },
      "execution_count": 88,
      "outputs": [
        {
          "output_type": "stream",
          "name": "stdout",
          "text": [
            "Index(['LastName', 'FirstName', 'MiddleInitial', 'Title', 'DeptName',\n",
            "       'AnnualSalary', 'GrossPayLastPaycheck', 'GrossYTD', 'ObjectId'],\n",
            "      dtype='object')\n"
          ]
        }
      ]
    },
    {
      "cell_type": "markdown",
      "source": [
        "# Tukey Method of Removing Outliers"
      ],
      "metadata": {
        "id": "j7zGFjtzHoIf"
      }
    },
    {
      "cell_type": "code",
      "source": [
        "df['AnnualSalary']"
      ],
      "metadata": {
        "colab": {
          "base_uri": "https://localhost:8080/",
          "height": 458
        },
        "id": "DistFF7U3lxC",
        "outputId": "30d828d8-704a-48c5-8536-13f2e13e1516"
      },
      "execution_count": 89,
      "outputs": [
        {
          "output_type": "execute_result",
          "data": {
            "text/plain": [
              "0         81592.186\n",
              "1         56423.161\n",
              "2         40767.761\n",
              "3         87534.450\n",
              "4         59237.468\n",
              "            ...    \n",
              "30075     24411.309\n",
              "30076     68955.996\n",
              "30077     35131.980\n",
              "30078    133535.101\n",
              "30079     26031.980\n",
              "Name: AnnualSalary, Length: 30080, dtype: float64"
            ],
            "text/html": [
              "<div>\n",
              "<style scoped>\n",
              "    .dataframe tbody tr th:only-of-type {\n",
              "        vertical-align: middle;\n",
              "    }\n",
              "\n",
              "    .dataframe tbody tr th {\n",
              "        vertical-align: top;\n",
              "    }\n",
              "\n",
              "    .dataframe thead th {\n",
              "        text-align: right;\n",
              "    }\n",
              "</style>\n",
              "<table border=\"1\" class=\"dataframe\">\n",
              "  <thead>\n",
              "    <tr style=\"text-align: right;\">\n",
              "      <th></th>\n",
              "      <th>AnnualSalary</th>\n",
              "    </tr>\n",
              "  </thead>\n",
              "  <tbody>\n",
              "    <tr>\n",
              "      <th>0</th>\n",
              "      <td>81592.186</td>\n",
              "    </tr>\n",
              "    <tr>\n",
              "      <th>1</th>\n",
              "      <td>56423.161</td>\n",
              "    </tr>\n",
              "    <tr>\n",
              "      <th>2</th>\n",
              "      <td>40767.761</td>\n",
              "    </tr>\n",
              "    <tr>\n",
              "      <th>3</th>\n",
              "      <td>87534.450</td>\n",
              "    </tr>\n",
              "    <tr>\n",
              "      <th>4</th>\n",
              "      <td>59237.468</td>\n",
              "    </tr>\n",
              "    <tr>\n",
              "      <th>...</th>\n",
              "      <td>...</td>\n",
              "    </tr>\n",
              "    <tr>\n",
              "      <th>30075</th>\n",
              "      <td>24411.309</td>\n",
              "    </tr>\n",
              "    <tr>\n",
              "      <th>30076</th>\n",
              "      <td>68955.996</td>\n",
              "    </tr>\n",
              "    <tr>\n",
              "      <th>30077</th>\n",
              "      <td>35131.980</td>\n",
              "    </tr>\n",
              "    <tr>\n",
              "      <th>30078</th>\n",
              "      <td>133535.101</td>\n",
              "    </tr>\n",
              "    <tr>\n",
              "      <th>30079</th>\n",
              "      <td>26031.980</td>\n",
              "    </tr>\n",
              "  </tbody>\n",
              "</table>\n",
              "<p>30080 rows × 1 columns</p>\n",
              "</div><br><label><b>dtype:</b> float64</label>"
            ]
          },
          "metadata": {},
          "execution_count": 89
        }
      ]
    },
    {
      "cell_type": "code",
      "source": [
        "sns.boxplot(x = df['AnnualSalary'])\n",
        "plt.show()"
      ],
      "metadata": {
        "colab": {
          "base_uri": "https://localhost:8080/",
          "height": 449
        },
        "id": "0QyKv2ML32ud",
        "outputId": "57b96dc6-2f0c-410e-ac9e-9907095cdada"
      },
      "execution_count": 90,
      "outputs": [
        {
          "output_type": "display_data",
          "data": {
            "text/plain": [
              "<Figure size 640x480 with 1 Axes>"
            ],
            "image/png": "[encoded data removed]"
          },
          "metadata": {}
        }
      ]
    },
    {
      "cell_type": "code",
      "source": [
        "sns.distplot(df['AnnualSalary'], bins = 15, kde=True)\n",
        "plt.show()"
      ],
      "metadata": {
        "colab": {
          "base_uri": "https://localhost:8080/",
          "height": 656
        },
        "id": "OUeDvb6Y3-MF",
        "outputId": "3839f1d1-75bb-4d57-f36c-38eade4acdfa"
      },
      "execution_count": 91,
      "outputs": [
        {
          "output_type": "stream",
          "name": "stderr",
          "text": [
            "<ipython-input-91-5d05606cf536>:1: UserWarning: \n",
            "\n",
            "`distplot` is a deprecated function and will be removed in seaborn v0.14.0.\n",
            "\n",
            "Please adapt your code to use either `displot` (a figure-level function with\n",
            "similar flexibility) or `histplot` (an axes-level function for histograms).\n",
            "\n",
            "For a guide to updating your code to use the new functions, please see\n",
            "https://gist.github.com/mwaskom/de44147ed2974457ad6372750bbe5751\n",
            "\n",
            "  sns.distplot(df['AnnualSalary'], bins = 15, kde=True)\n"
          ]
        },
        {
          "output_type": "display_data",
          "data": {
            "text/plain": [
              "<Figure size 640x480 with 1 Axes>"
            ],
            "image/png": "[encoded data removed]"
          },
          "metadata": {}
        }
      ]
    },
    {
      "cell_type": "code",
      "source": [
        "df[['AnnualSalary']].describe()"
      ],
      "metadata": {
        "colab": {
          "base_uri": "https://localhost:8080/",
          "height": 300
        },
        "id": "-x9YAYt04Dv_",
        "outputId": "e207039d-5edd-4611-f92b-908828e26bf4"
      },
      "execution_count": 92,
      "outputs": [
        {
          "output_type": "execute_result",
          "data": {
            "text/plain": [
              "        AnnualSalary\n",
              "count   30080.000000\n",
              "mean    82348.446577\n",
              "std     38386.282757\n",
              "min      2340.000000\n",
              "25%     54923.809000\n",
              "50%     75423.226000\n",
              "75%    103789.099000\n",
              "max    405012.307000"
            ],
            "text/html": [
              "\n",
              "  <div id=\"df-54c300da-4a00-4cdc-868a-b35a776b1f09\" class=\"colab-df-container\">\n",
              "    <div>\n",
              "<style scoped>\n",
              "    .dataframe tbody tr th:only-of-type {\n",
              "        vertical-align: middle;\n",
              "    }\n",
              "\n",
              "    .dataframe tbody tr th {\n",
              "        vertical-align: top;\n",
              "    }\n",
              "\n",
              "    .dataframe thead th {\n",
              "        text-align: right;\n",
              "    }\n",
              "</style>\n",
              "<table border=\"1\" class=\"dataframe\">\n",
              "  <thead>\n",
              "    <tr style=\"text-align: right;\">\n",
              "      <th></th>\n",
              "      <th>AnnualSalary</th>\n",
              "    </tr>\n",
              "  </thead>\n",
              "  <tbody>\n",
              "    <tr>\n",
              "      <th>count</th>\n",
              "      <td>30080.000000</td>\n",
              "    </tr>\n",
              "    <tr>\n",
              "      <th>mean</th>\n",
              "      <td>82348.446577</td>\n",
              "    </tr>\n",
              "    <tr>\n",
              "      <th>std</th>\n",
              "      <td>38386.282757</td>\n",
              "    </tr>\n",
              "    <tr>\n",
              "      <th>min</th>\n",
              "      <td>2340.000000</td>\n",
              "    </tr>\n",
              "    <tr>\n",
              "      <th>25%</th>\n",
              "      <td>54923.809000</td>\n",
              "    </tr>\n",
              "    <tr>\n",
              "      <th>50%</th>\n",
              "      <td>75423.226000</td>\n",
              "    </tr>\n",
              "    <tr>\n",
              "      <th>75%</th>\n",
              "      <td>103789.099000</td>\n",
              "    </tr>\n",
              "    <tr>\n",
              "      <th>max</th>\n",
              "      <td>405012.307000</td>\n",
              "    </tr>\n",
              "  </tbody>\n",
              "</table>\n",
              "</div>\n",
              "    <div class=\"colab-df-buttons\">\n",
              "\n",
              "  <div class=\"colab-df-container\">\n",
              "    <button class=\"colab-df-convert\" onclick=\"convertToInteractive('df-54c300da-4a00-4cdc-868a-b35a776b1f09')\"\n",
              "            title=\"Convert this dataframe to an interactive table.\"\n",
              "            style=\"display:none;\">\n",
              "\n",
              "  <svg xmlns=\"http://www.w3.org/2000/svg\" height=\"24px\" viewBox=\"0 -960 960 960\">\n",
              "    <path d=\"M120-120v-720h720v720H120Zm60-500h600v-160H180v160Zm220 220h160v-160H400v160Zm0 220h160v-160H400v160ZM180-400h160v-160H180v160Zm440 0h160v-160H620v160ZM180-180h160v-160H180v160Zm440 0h160v-160H620v160Z\"/>\n",
              "  </svg>\n",
              "    </button>\n",
              "\n",
              "  <style>\n",
              "    .colab-df-container {\n",
              "      display:flex;\n",
              "      gap: 12px;\n",
              "    }\n",
              "\n",
              "    .colab-df-convert {\n",
              "      background-color: #E8F0FE;\n",
              "      border: none;\n",
              "      border-radius: 50%;\n",
              "      cursor: pointer;\n",
              "      display: none;\n",
              "      fill: #1967D2;\n",
              "      height: 32px;\n",
              "      padding: 0 0 0 0;\n",
              "      width: 32px;\n",
              "    }\n",
              "\n",
              "    .colab-df-convert:hover {\n",
              "      background-color: #E2EBFA;\n",
              "      box-shadow: 0px 1px 2px rgba(60, 64, 67, 0.3), 0px 1px 3px 1px rgba(60, 64, 67, 0.15);\n",
              "      fill: #174EA6;\n",
              "    }\n",
              "\n",
              "    .colab-df-buttons div {\n",
              "      margin-bottom: 4px;\n",
              "    }\n",
              "\n",
              "    [theme=dark] .colab-df-convert {\n",
              "      background-color: #3B4455;\n",
              "      fill: #D2E3FC;\n",
              "    }\n",
              "\n",
              "    [theme=dark] .colab-df-convert:hover {\n",
              "      background-color: #434B5C;\n",
              "      box-shadow: 0px 1px 3px 1px rgba(0, 0, 0, 0.15);\n",
              "      filter: drop-shadow(0px 1px 2px rgba(0, 0, 0, 0.3));\n",
              "      fill: #FFFFFF;\n",
              "    }\n",
              "  </style>\n",
              "\n",
              "    <script>\n",
              "      const buttonEl =\n",
              "        document.querySelector('#df-54c300da-4a00-4cdc-868a-b35a776b1f09 button.colab-df-convert');\n",
              "      buttonEl.style.display =\n",
              "        google.colab.kernel.accessAllowed ? 'block' : 'none';\n",
              "\n",
              "      async function convertToInteractive(key) {\n",
              "        const element = document.querySelector('#df-54c300da-4a00-4cdc-868a-b35a776b1f09');\n",
              "        const dataTable =\n",
              "          await google.colab.kernel.invokeFunction('convertToInteractive',\n",
              "                                                    [key], {});\n",
              "        if (!dataTable) return;\n",
              "\n",
              "        const docLinkHtml = 'Like what you see? Visit the ' +\n",
              "          '<a target=\"_blank\" href=https://colab.research.google.com/notebooks/data_table.ipynb>data table notebook</a>'\n",
              "          + ' to learn more about interactive tables.';\n",
              "        element.innerHTML = '';\n",
              "        dataTable['output_type'] = 'display_data';\n",
              "        await google.colab.output.renderOutput(dataTable, element);\n",
              "        const docLink = document.createElement('div');\n",
              "        docLink.innerHTML = docLinkHtml;\n",
              "        element.appendChild(docLink);\n",
              "      }\n",
              "    </script>\n",
              "  </div>\n",
              "\n",
              "\n",
              "<div id=\"df-10879d6a-adc2-41ff-9aed-ebdb6c815c91\">\n",
              "  <button class=\"colab-df-quickchart\" onclick=\"quickchart('df-10879d6a-adc2-41ff-9aed-ebdb6c815c91')\"\n",
              "            title=\"Suggest charts\"\n",
              "            style=\"display:none;\">\n",
              "\n",
              "<svg xmlns=\"http://www.w3.org/2000/svg\" height=\"24px\"viewBox=\"0 0 24 24\"\n",
              "     width=\"24px\">\n",
              "    <g>\n",
              "        <path d=\"M19 3H5c-1.1 0-2 .9-2 2v14c0 1.1.9 2 2 2h14c1.1 0 2-.9 2-2V5c0-1.1-.9-2-2-2zM9 17H7v-7h2v7zm4 0h-2V7h2v10zm4 0h-2v-4h2v4z\"/>\n",
              "    </g>\n",
              "</svg>\n",
              "  </button>\n",
              "\n",
              "<style>\n",
              "  .colab-df-quickchart {\n",
              "      --bg-color: #E8F0FE;\n",
              "      --fill-color: #1967D2;\n",
              "      --hover-bg-color: #E2EBFA;\n",
              "      --hover-fill-color: #174EA6;\n",
              "      --disabled-fill-color: #AAA;\n",
              "      --disabled-bg-color: #DDD;\n",
              "  }\n",
              "\n",
              "  [theme=dark] .colab-df-quickchart {\n",
              "      --bg-color: #3B4455;\n",
              "      --fill-color: #D2E3FC;\n",
              "      --hover-bg-color: #434B5C;\n",
              "      --hover-fill-color: #FFFFFF;\n",
              "      --disabled-bg-color: #3B4455;\n",
              "      --disabled-fill-color: #666;\n",
              "  }\n",
              "\n",
              "  .colab-df-quickchart {\n",
              "    background-color: var(--bg-color);\n",
              "    border: none;\n",
              "    border-radius: 50%;\n",
              "    cursor: pointer;\n",
              "    display: none;\n",
              "    fill: var(--fill-color);\n",
              "    height: 32px;\n",
              "    padding: 0;\n",
              "    width: 32px;\n",
              "  }\n",
              "\n",
              "  .colab-df-quickchart:hover {\n",
              "    background-color: var(--hover-bg-color);\n",
              "    box-shadow: 0 1px 2px rgba(60, 64, 67, 0.3), 0 1px 3px 1px rgba(60, 64, 67, 0.15);\n",
              "    fill: var(--button-hover-fill-color);\n",
              "  }\n",
              "\n",
              "  .colab-df-quickchart-complete:disabled,\n",
              "  .colab-df-quickchart-complete:disabled:hover {\n",
              "    background-color: var(--disabled-bg-color);\n",
              "    fill: var(--disabled-fill-color);\n",
              "    box-shadow: none;\n",
              "  }\n",
              "\n",
              "  .colab-df-spinner {\n",
              "    border: 2px solid var(--fill-color);\n",
              "    border-color: transparent;\n",
              "    border-bottom-color: var(--fill-color);\n",
              "    animation:\n",
              "      spin 1s steps(1) infinite;\n",
              "  }\n",
              "\n",
              "  @keyframes spin {\n",
              "    0% {\n",
              "      border-color: transparent;\n",
              "      border-bottom-color: var(--fill-color);\n",
              "      border-left-color: var(--fill-color);\n",
              "    }\n",
              "    20% {\n",
              "      border-color: transparent;\n",
              "      border-left-color: var(--fill-color);\n",
              "      border-top-color: var(--fill-color);\n",
              "    }\n",
              "    30% {\n",
              "      border-color: transparent;\n",
              "      border-left-color: var(--fill-color);\n",
              "      border-top-color: var(--fill-color);\n",
              "      border-right-color: var(--fill-color);\n",
              "    }\n",
              "    40% {\n",
              "      border-color: transparent;\n",
              "      border-right-color: var(--fill-color);\n",
              "      border-top-color: var(--fill-color);\n",
              "    }\n",
              "    60% {\n",
              "      border-color: transparent;\n",
              "      border-right-color: var(--fill-color);\n",
              "    }\n",
              "    80% {\n",
              "      border-color: transparent;\n",
              "      border-right-color: var(--fill-color);\n",
              "      border-bottom-color: var(--fill-color);\n",
              "    }\n",
              "    90% {\n",
              "      border-color: transparent;\n",
              "      border-bottom-color: var(--fill-color);\n",
              "    }\n",
              "  }\n",
              "</style>\n",
              "\n",
              "  <script>\n",
              "    async function quickchart(key) {\n",
              "      const quickchartButtonEl =\n",
              "        document.querySelector('#' + key + ' button');\n",
              "      quickchartButtonEl.disabled = true;  // To prevent multiple clicks.\n",
              "      quickchartButtonEl.classList.add('colab-df-spinner');\n",
              "      try {\n",
              "        const charts = await google.colab.kernel.invokeFunction(\n",
              "            'suggestCharts', [key], {});\n",
              "      } catch (error) {\n",
              "        console.error('Error during call to suggestCharts:', error);\n",
              "      }\n",
              "      quickchartButtonEl.classList.remove('colab-df-spinner');\n",
              "      quickchartButtonEl.classList.add('colab-df-quickchart-complete');\n",
              "    }\n",
              "    (() => {\n",
              "      let quickchartButtonEl =\n",
              "        document.querySelector('#df-10879d6a-adc2-41ff-9aed-ebdb6c815c91 button');\n",
              "      quickchartButtonEl.style.display =\n",
              "        google.colab.kernel.accessAllowed ? 'block' : 'none';\n",
              "    })();\n",
              "  </script>\n",
              "</div>\n",
              "\n",
              "    </div>\n",
              "  </div>\n"
            ],
            "application/vnd.google.colaboratory.intrinsic+json": {
              "type": "dataframe",
              "summary": "{\n  \"name\": \"df[['AnnualSalary']]\",\n  \"rows\": 8,\n  \"fields\": [\n    {\n      \"column\": \"AnnualSalary\",\n      \"properties\": {\n        \"dtype\": \"number\",\n        \"std\": 127732.67276980706,\n        \"min\": 2340.0,\n        \"max\": 405012.307,\n        \"num_unique_values\": 8,\n        \"samples\": [\n          82348.44657719415,\n          75423.226,\n          30080.0\n        ],\n        \"semantic_type\": \"\",\n        \"description\": \"\"\n      }\n    }\n  ]\n}"
            }
          },
          "metadata": {},
          "execution_count": 92
        }
      ]
    },
    {
      "cell_type": "code",
      "source": [
        "df['AnnualSalary'].quantile(0.25)"
      ],
      "metadata": {
        "colab": {
          "base_uri": "https://localhost:8080/"
        },
        "id": "O6xiRs4Q7TL5",
        "outputId": "ad6192da-2daa-4b08-e5e1-b55db47b0332"
      },
      "execution_count": 93,
      "outputs": [
        {
          "output_type": "execute_result",
          "data": {
            "text/plain": [
              "54923.809"
            ]
          },
          "metadata": {},
          "execution_count": 93
        }
      ]
    },
    {
      "cell_type": "code",
      "source": [
        "df['AnnualSalary'].quantile(0.75)"
      ],
      "metadata": {
        "colab": {
          "base_uri": "https://localhost:8080/"
        },
        "id": "SV_glhA07TOS",
        "outputId": "638e3d8a-d8f4-430d-d8ee-c53696b7e7ab"
      },
      "execution_count": 94,
      "outputs": [
        {
          "output_type": "execute_result",
          "data": {
            "text/plain": [
              "103789.099"
            ]
          },
          "metadata": {},
          "execution_count": 94
        }
      ]
    },
    {
      "cell_type": "code",
      "source": [
        "Q1 = df['AnnualSalary'].quantile(0.25)\n",
        "Q3 = df['AnnualSalary'].quantile(0.75)\n",
        "IQR = Q3 - Q1\n",
        "IQR"
      ],
      "metadata": {
        "colab": {
          "base_uri": "https://localhost:8080/"
        },
        "id": "S0K_PIQ97TRA",
        "outputId": "ece30a80-89d6-4c0b-b1f2-78e54bf86700"
      },
      "execution_count": 95,
      "outputs": [
        {
          "output_type": "execute_result",
          "data": {
            "text/plain": [
              "48865.29"
            ]
          },
          "metadata": {},
          "execution_count": 95
        }
      ]
    },
    {
      "cell_type": "code",
      "source": [
        "lower_lim = Q1 - 1.5*IQR\n",
        "upper_lim = Q3 + 1.5*IQR"
      ],
      "metadata": {
        "id": "o4c0gU_17br4"
      },
      "execution_count": 96,
      "outputs": []
    },
    {
      "cell_type": "code",
      "source": [
        "lower_lim"
      ],
      "metadata": {
        "colab": {
          "base_uri": "https://localhost:8080/"
        },
        "id": "mOavv2ii7buh",
        "outputId": "69705e74-c4f7-41e0-f51c-113981f4212c"
      },
      "execution_count": 97,
      "outputs": [
        {
          "output_type": "execute_result",
          "data": {
            "text/plain": [
              "-18374.125999999997"
            ]
          },
          "metadata": {},
          "execution_count": 97
        }
      ]
    },
    {
      "cell_type": "code",
      "source": [
        "upper_lim"
      ],
      "metadata": {
        "colab": {
          "base_uri": "https://localhost:8080/"
        },
        "id": "OIa-px3u7hNG",
        "outputId": "73d513c0-fa30-49af-cb23-e95a26f62319"
      },
      "execution_count": 98,
      "outputs": [
        {
          "output_type": "execute_result",
          "data": {
            "text/plain": [
              "177087.03399999999"
            ]
          },
          "metadata": {},
          "execution_count": 98
        }
      ]
    },
    {
      "cell_type": "code",
      "source": [
        "outliers_15_low = df[df['AnnualSalary'] < lower_lim]\n",
        "outliers_15_low['AnnualSalary']"
      ],
      "metadata": {
        "colab": {
          "base_uri": "https://localhost:8080/",
          "height": 84
        },
        "id": "HTwqxLCH7hP5",
        "outputId": "929d27fb-5f1c-4ac3-ec83-f56e427c0de8"
      },
      "execution_count": 99,
      "outputs": [
        {
          "output_type": "execute_result",
          "data": {
            "text/plain": [
              "Series([], Name: AnnualSalary, dtype: float64)"
            ],
            "text/html": [
              "<div>\n",
              "<style scoped>\n",
              "    .dataframe tbody tr th:only-of-type {\n",
              "        vertical-align: middle;\n",
              "    }\n",
              "\n",
              "    .dataframe tbody tr th {\n",
              "        vertical-align: top;\n",
              "    }\n",
              "\n",
              "    .dataframe thead th {\n",
              "        text-align: right;\n",
              "    }\n",
              "</style>\n",
              "<table border=\"1\" class=\"dataframe\">\n",
              "  <thead>\n",
              "    <tr style=\"text-align: right;\">\n",
              "      <th></th>\n",
              "      <th>AnnualSalary</th>\n",
              "    </tr>\n",
              "  </thead>\n",
              "  <tbody>\n",
              "  </tbody>\n",
              "</table>\n",
              "</div><br><label><b>dtype:</b> float64</label>"
            ]
          },
          "metadata": {},
          "execution_count": 99
        }
      ]
    },
    {
      "cell_type": "code",
      "source": [
        "outliers_15_up = df[df['AnnualSalary'] > upper_lim]\n",
        "outliers_15_up['AnnualSalary']"
      ],
      "metadata": {
        "colab": {
          "base_uri": "https://localhost:8080/",
          "height": 458
        },
        "id": "Ox_6DQ687bxI",
        "outputId": "082f6e4c-de7b-41b9-e3f1-0bb9fe25d6d2"
      },
      "execution_count": 100,
      "outputs": [
        {
          "output_type": "execute_result",
          "data": {
            "text/plain": [
              "9        194999.561\n",
              "33       189109.371\n",
              "41       180482.647\n",
              "62       240643.665\n",
              "81       353426.580\n",
              "            ...    \n",
              "29718    218122.737\n",
              "29791    269933.300\n",
              "29839    216636.714\n",
              "29899    239588.960\n",
              "30004    326699.160\n",
              "Name: AnnualSalary, Length: 569, dtype: float64"
            ],
            "text/html": [
              "<div>\n",
              "<style scoped>\n",
              "    .dataframe tbody tr th:only-of-type {\n",
              "        vertical-align: middle;\n",
              "    }\n",
              "\n",
              "    .dataframe tbody tr th {\n",
              "        vertical-align: top;\n",
              "    }\n",
              "\n",
              "    .dataframe thead th {\n",
              "        text-align: right;\n",
              "    }\n",
              "</style>\n",
              "<table border=\"1\" class=\"dataframe\">\n",
              "  <thead>\n",
              "    <tr style=\"text-align: right;\">\n",
              "      <th></th>\n",
              "      <th>AnnualSalary</th>\n",
              "    </tr>\n",
              "  </thead>\n",
              "  <tbody>\n",
              "    <tr>\n",
              "      <th>9</th>\n",
              "      <td>194999.561</td>\n",
              "    </tr>\n",
              "    <tr>\n",
              "      <th>33</th>\n",
              "      <td>189109.371</td>\n",
              "    </tr>\n",
              "    <tr>\n",
              "      <th>41</th>\n",
              "      <td>180482.647</td>\n",
              "    </tr>\n",
              "    <tr>\n",
              "      <th>62</th>\n",
              "      <td>240643.665</td>\n",
              "    </tr>\n",
              "    <tr>\n",
              "      <th>81</th>\n",
              "      <td>353426.580</td>\n",
              "    </tr>\n",
              "    <tr>\n",
              "      <th>...</th>\n",
              "      <td>...</td>\n",
              "    </tr>\n",
              "    <tr>\n",
              "      <th>29718</th>\n",
              "      <td>218122.737</td>\n",
              "    </tr>\n",
              "    <tr>\n",
              "      <th>29791</th>\n",
              "      <td>269933.300</td>\n",
              "    </tr>\n",
              "    <tr>\n",
              "      <th>29839</th>\n",
              "      <td>216636.714</td>\n",
              "    </tr>\n",
              "    <tr>\n",
              "      <th>29899</th>\n",
              "      <td>239588.960</td>\n",
              "    </tr>\n",
              "    <tr>\n",
              "      <th>30004</th>\n",
              "      <td>326699.160</td>\n",
              "    </tr>\n",
              "  </tbody>\n",
              "</table>\n",
              "<p>569 rows × 1 columns</p>\n",
              "</div><br><label><b>dtype:</b> float64</label>"
            ]
          },
          "metadata": {},
          "execution_count": 100
        }
      ]
    },
    {
      "cell_type": "code",
      "source": [
        "len(df['AnnualSalary']) - (len(outliers_15_low) + len(outliers_15_up))"
      ],
      "metadata": {
        "colab": {
          "base_uri": "https://localhost:8080/"
        },
        "id": "ZYcBQHRc7bzs",
        "outputId": "fa060b60-14d8-4b16-bf05-7b04f73ad9ca"
      },
      "execution_count": 101,
      "outputs": [
        {
          "output_type": "execute_result",
          "data": {
            "text/plain": [
              "29511"
            ]
          },
          "metadata": {},
          "execution_count": 101
        }
      ]
    },
    {
      "cell_type": "code",
      "source": [
        "outliers = df[(df['AnnualSalary'] < lower_lim) | (df['AnnualSalary'] > upper_lim)]\n",
        "outliers['AnnualSalary']"
      ],
      "metadata": {
        "colab": {
          "base_uri": "https://localhost:8080/",
          "height": 458
        },
        "id": "GWvQOqCD7TTg",
        "outputId": "212f06ae-1805-476d-f4a5-23dbf6a73684"
      },
      "execution_count": 102,
      "outputs": [
        {
          "output_type": "execute_result",
          "data": {
            "text/plain": [
              "9        194999.561\n",
              "33       189109.371\n",
              "41       180482.647\n",
              "62       240643.665\n",
              "81       353426.580\n",
              "            ...    \n",
              "29718    218122.737\n",
              "29791    269933.300\n",
              "29839    216636.714\n",
              "29899    239588.960\n",
              "30004    326699.160\n",
              "Name: AnnualSalary, Length: 569, dtype: float64"
            ],
            "text/html": [
              "<div>\n",
              "<style scoped>\n",
              "    .dataframe tbody tr th:only-of-type {\n",
              "        vertical-align: middle;\n",
              "    }\n",
              "\n",
              "    .dataframe tbody tr th {\n",
              "        vertical-align: top;\n",
              "    }\n",
              "\n",
              "    .dataframe thead th {\n",
              "        text-align: right;\n",
              "    }\n",
              "</style>\n",
              "<table border=\"1\" class=\"dataframe\">\n",
              "  <thead>\n",
              "    <tr style=\"text-align: right;\">\n",
              "      <th></th>\n",
              "      <th>AnnualSalary</th>\n",
              "    </tr>\n",
              "  </thead>\n",
              "  <tbody>\n",
              "    <tr>\n",
              "      <th>9</th>\n",
              "      <td>194999.561</td>\n",
              "    </tr>\n",
              "    <tr>\n",
              "      <th>33</th>\n",
              "      <td>189109.371</td>\n",
              "    </tr>\n",
              "    <tr>\n",
              "      <th>41</th>\n",
              "      <td>180482.647</td>\n",
              "    </tr>\n",
              "    <tr>\n",
              "      <th>62</th>\n",
              "      <td>240643.665</td>\n",
              "    </tr>\n",
              "    <tr>\n",
              "      <th>81</th>\n",
              "      <td>353426.580</td>\n",
              "    </tr>\n",
              "    <tr>\n",
              "      <th>...</th>\n",
              "      <td>...</td>\n",
              "    </tr>\n",
              "    <tr>\n",
              "      <th>29718</th>\n",
              "      <td>218122.737</td>\n",
              "    </tr>\n",
              "    <tr>\n",
              "      <th>29791</th>\n",
              "      <td>269933.300</td>\n",
              "    </tr>\n",
              "    <tr>\n",
              "      <th>29839</th>\n",
              "      <td>216636.714</td>\n",
              "    </tr>\n",
              "    <tr>\n",
              "      <th>29899</th>\n",
              "      <td>239588.960</td>\n",
              "    </tr>\n",
              "    <tr>\n",
              "      <th>30004</th>\n",
              "      <td>326699.160</td>\n",
              "    </tr>\n",
              "  </tbody>\n",
              "</table>\n",
              "<p>569 rows × 1 columns</p>\n",
              "</div><br><label><b>dtype:</b> float64</label>"
            ]
          },
          "metadata": {},
          "execution_count": 102
        }
      ]
    },
    {
      "cell_type": "code",
      "source": [
        "df = df[~((df['AnnualSalary'] < lower_lim) | (df['AnnualSalary'] > upper_lim))]"
      ],
      "metadata": {
        "id": "8I_I1Mpz8rCn"
      },
      "execution_count": 103,
      "outputs": []
    },
    {
      "cell_type": "code",
      "source": [
        "df"
      ],
      "metadata": {
        "colab": {
          "base_uri": "https://localhost:8080/",
          "height": 614
        },
        "id": "Kq_r29ap_irw",
        "outputId": "d7ad133d-3162-4ba9-df14-a662bbb25705"
      },
      "execution_count": 104,
      "outputs": [
        {
          "output_type": "execute_result",
          "data": {
            "text/plain": [
              "                             LastName     FirstName MiddleInitial  \\\n",
              "0                                 LUC       AUNDREA             S   \n",
              "1                                 LUE        KEISHA         RENEE   \n",
              "2                                 LUO           SEI             Y   \n",
              "3                                 LYS       JACQUES             E   \n",
              "4                                 MAS          JOSE             R   \n",
              "...                               ...           ...           ...   \n",
              "30075         LORIE MARTINEZ PINILLOS        ALEXEI       ANTONIO   \n",
              "30076         PANAITOV SILVA SANTIAGO        THIAGO           NaN   \n",
              "30077        DEL VALLE ALVAREZ-COLINA      ENMAIBET           NaN   \n",
              "30078       GONZALEZ LOPEZ DE GAMARRA  JUAN ANTONIO           NaN   \n",
              "30079  MONTES DE OCA PÃREZ DE CORCHO        DANILO           NaN   \n",
              "\n",
              "                             Title                        DeptName  \\\n",
              "0      WASTE ENFORCEMENT OFFICER 1          SOLID WASTE MANAGEMENT   \n",
              "1       SHARED SERVICES SPECIALIST                 HUMAN RESOURCES   \n",
              "2                        SECRETARY                          POLICE   \n",
              "3        DTPW SERVICE SPECIALIST 2   TRANSPORTATION & PUBLIC WORKS   \n",
              "4           RER PERMIT & PLANS REP  REGULATORY & ECONOMIC RESOURCE   \n",
              "...                            ...                             ...   \n",
              "30075       GOLF SERVICE ATTENDANT   PARKS, RECREATION & OPEN SPCS   \n",
              "30076               POLICE OFFICER                          POLICE   \n",
              "30077    PROPERTY EXEMPTIONS CLERK  OFFICE OF THE PROPRTY APPRAISR   \n",
              "30078     JA COMP SERVICES MANAGER         ADM OFFICE OF THE COURT   \n",
              "30079          POOL/LAKE LIFEGUARD   PARKS, RECREATION & OPEN SPCS   \n",
              "\n",
              "       AnnualSalary  GrossPayLastPaycheck  GrossYTD  ObjectId  \n",
              "0         81592.186               9359.04   9359.04         1  \n",
              "1         56423.161               2756.12   2756.12         2  \n",
              "2         40767.761               1640.86   1640.86         3  \n",
              "3         87534.450               3410.16   3410.16         4  \n",
              "4         59237.468               2321.84   2321.84         5  \n",
              "...             ...                   ...       ...       ...  \n",
              "30075     24411.309                238.70   4013.98     30076  \n",
              "30076     68955.996               3841.06   3841.06     30077  \n",
              "30077     35131.980               1394.69   1394.69     30078  \n",
              "30078    133535.101               7716.61   7716.61     30079  \n",
              "30079     26031.980               1357.60   1357.60     30080  \n",
              "\n",
              "[29511 rows x 9 columns]"
            ],
            "text/html": [
              "\n",
              "  <div id=\"df-7994de9d-0284-4194-8116-056d7fc9d1b7\" class=\"colab-df-container\">\n",
              "    <div>\n",
              "<style scoped>\n",
              "    .dataframe tbody tr th:only-of-type {\n",
              "        vertical-align: middle;\n",
              "    }\n",
              "\n",
              "    .dataframe tbody tr th {\n",
              "        vertical-align: top;\n",
              "    }\n",
              "\n",
              "    .dataframe thead th {\n",
              "        text-align: right;\n",
              "    }\n",
              "</style>\n",
              "<table border=\"1\" class=\"dataframe\">\n",
              "  <thead>\n",
              "    <tr style=\"text-align: right;\">\n",
              "      <th></th>\n",
              "      <th>LastName</th>\n",
              "      <th>FirstName</th>\n",
              "      <th>MiddleInitial</th>\n",
              "      <th>Title</th>\n",
              "      <th>DeptName</th>\n",
              "      <th>AnnualSalary</th>\n",
              "      <th>GrossPayLastPaycheck</th>\n",
              "      <th>GrossYTD</th>\n",
              "      <th>ObjectId</th>\n",
              "    </tr>\n",
              "  </thead>\n",
              "  <tbody>\n",
              "    <tr>\n",
              "      <th>0</th>\n",
              "      <td>LUC</td>\n",
              "      <td>AUNDREA</td>\n",
              "      <td>S</td>\n",
              "      <td>WASTE ENFORCEMENT OFFICER 1</td>\n",
              "      <td>SOLID WASTE MANAGEMENT</td>\n",
              "      <td>81592.186</td>\n",
              "      <td>9359.04</td>\n",
              "      <td>9359.04</td>\n",
              "      <td>1</td>\n",
              "    </tr>\n",
              "    <tr>\n",
              "      <th>1</th>\n",
              "      <td>LUE</td>\n",
              "      <td>KEISHA</td>\n",
              "      <td>RENEE</td>\n",
              "      <td>SHARED SERVICES SPECIALIST</td>\n",
              "      <td>HUMAN RESOURCES</td>\n",
              "      <td>56423.161</td>\n",
              "      <td>2756.12</td>\n",
              "      <td>2756.12</td>\n",
              "      <td>2</td>\n",
              "    </tr>\n",
              "    <tr>\n",
              "      <th>2</th>\n",
              "      <td>LUO</td>\n",
              "      <td>SEI</td>\n",
              "      <td>Y</td>\n",
              "      <td>SECRETARY</td>\n",
              "      <td>POLICE</td>\n",
              "      <td>40767.761</td>\n",
              "      <td>1640.86</td>\n",
              "      <td>1640.86</td>\n",
              "      <td>3</td>\n",
              "    </tr>\n",
              "    <tr>\n",
              "      <th>3</th>\n",
              "      <td>LYS</td>\n",
              "      <td>JACQUES</td>\n",
              "      <td>E</td>\n",
              "      <td>DTPW SERVICE SPECIALIST 2</td>\n",
              "      <td>TRANSPORTATION &amp; PUBLIC WORKS</td>\n",
              "      <td>87534.450</td>\n",
              "      <td>3410.16</td>\n",
              "      <td>3410.16</td>\n",
              "      <td>4</td>\n",
              "    </tr>\n",
              "    <tr>\n",
              "      <th>4</th>\n",
              "      <td>MAS</td>\n",
              "      <td>JOSE</td>\n",
              "      <td>R</td>\n",
              "      <td>RER PERMIT &amp; PLANS REP</td>\n",
              "      <td>REGULATORY &amp; ECONOMIC RESOURCE</td>\n",
              "      <td>59237.468</td>\n",
              "      <td>2321.84</td>\n",
              "      <td>2321.84</td>\n",
              "      <td>5</td>\n",
              "    </tr>\n",
              "    <tr>\n",
              "      <th>...</th>\n",
              "      <td>...</td>\n",
              "      <td>...</td>\n",
              "      <td>...</td>\n",
              "      <td>...</td>\n",
              "      <td>...</td>\n",
              "      <td>...</td>\n",
              "      <td>...</td>\n",
              "      <td>...</td>\n",
              "      <td>...</td>\n",
              "    </tr>\n",
              "    <tr>\n",
              "      <th>30075</th>\n",
              "      <td>LORIE MARTINEZ PINILLOS</td>\n",
              "      <td>ALEXEI</td>\n",
              "      <td>ANTONIO</td>\n",
              "      <td>GOLF SERVICE ATTENDANT</td>\n",
              "      <td>PARKS, RECREATION &amp; OPEN SPCS</td>\n",
              "      <td>24411.309</td>\n",
              "      <td>238.70</td>\n",
              "      <td>4013.98</td>\n",
              "      <td>30076</td>\n",
              "    </tr>\n",
              "    <tr>\n",
              "      <th>30076</th>\n",
              "      <td>PANAITOV SILVA SANTIAGO</td>\n",
              "      <td>THIAGO</td>\n",
              "      <td>NaN</td>\n",
              "      <td>POLICE OFFICER</td>\n",
              "      <td>POLICE</td>\n",
              "      <td>68955.996</td>\n",
              "      <td>3841.06</td>\n",
              "      <td>3841.06</td>\n",
              "      <td>30077</td>\n",
              "    </tr>\n",
              "    <tr>\n",
              "      <th>30077</th>\n",
              "      <td>DEL VALLE ALVAREZ-COLINA</td>\n",
              "      <td>ENMAIBET</td>\n",
              "      <td>NaN</td>\n",
              "      <td>PROPERTY EXEMPTIONS CLERK</td>\n",
              "      <td>OFFICE OF THE PROPRTY APPRAISR</td>\n",
              "      <td>35131.980</td>\n",
              "      <td>1394.69</td>\n",
              "      <td>1394.69</td>\n",
              "      <td>30078</td>\n",
              "    </tr>\n",
              "    <tr>\n",
              "      <th>30078</th>\n",
              "      <td>GONZALEZ LOPEZ DE GAMARRA</td>\n",
              "      <td>JUAN ANTONIO</td>\n",
              "      <td>NaN</td>\n",
              "      <td>JA COMP SERVICES MANAGER</td>\n",
              "      <td>ADM OFFICE OF THE COURT</td>\n",
              "      <td>133535.101</td>\n",
              "      <td>7716.61</td>\n",
              "      <td>7716.61</td>\n",
              "      <td>30079</td>\n",
              "    </tr>\n",
              "    <tr>\n",
              "      <th>30079</th>\n",
              "      <td>MONTES DE OCA PÃREZ DE CORCHO</td>\n",
              "      <td>DANILO</td>\n",
              "      <td>NaN</td>\n",
              "      <td>POOL/LAKE LIFEGUARD</td>\n",
              "      <td>PARKS, RECREATION &amp; OPEN SPCS</td>\n",
              "      <td>26031.980</td>\n",
              "      <td>1357.60</td>\n",
              "      <td>1357.60</td>\n",
              "      <td>30080</td>\n",
              "    </tr>\n",
              "  </tbody>\n",
              "</table>\n",
              "<p>29511 rows × 9 columns</p>\n",
              "</div>\n",
              "    <div class=\"colab-df-buttons\">\n",
              "\n",
              "  <div class=\"colab-df-container\">\n",
              "    <button class=\"colab-df-convert\" onclick=\"convertToInteractive('df-7994de9d-0284-4194-8116-056d7fc9d1b7')\"\n",
              "            title=\"Convert this dataframe to an interactive table.\"\n",
              "            style=\"display:none;\">\n",
              "\n",
              "  <svg xmlns=\"http://www.w3.org/2000/svg\" height=\"24px\" viewBox=\"0 -960 960 960\">\n",
              "    <path d=\"M120-120v-720h720v720H120Zm60-500h600v-160H180v160Zm220 220h160v-160H400v160Zm0 220h160v-160H400v160ZM180-400h160v-160H180v160Zm440 0h160v-160H620v160ZM180-180h160v-160H180v160Zm440 0h160v-160H620v160Z\"/>\n",
              "  </svg>\n",
              "    </button>\n",
              "\n",
              "  <style>\n",
              "    .colab-df-container {\n",
              "      display:flex;\n",
              "      gap: 12px;\n",
              "    }\n",
              "\n",
              "    .colab-df-convert {\n",
              "      background-color: #E8F0FE;\n",
              "      border: none;\n",
              "      border-radius: 50%;\n",
              "      cursor: pointer;\n",
              "      display: none;\n",
              "      fill: #1967D2;\n",
              "      height: 32px;\n",
              "      padding: 0 0 0 0;\n",
              "      width: 32px;\n",
              "    }\n",
              "\n",
              "    .colab-df-convert:hover {\n",
              "      background-color: #E2EBFA;\n",
              "      box-shadow: 0px 1px 2px rgba(60, 64, 67, 0.3), 0px 1px 3px 1px rgba(60, 64, 67, 0.15);\n",
              "      fill: #174EA6;\n",
              "    }\n",
              "\n",
              "    .colab-df-buttons div {\n",
              "      margin-bottom: 4px;\n",
              "    }\n",
              "\n",
              "    [theme=dark] .colab-df-convert {\n",
              "      background-color: #3B4455;\n",
              "      fill: #D2E3FC;\n",
              "    }\n",
              "\n",
              "    [theme=dark] .colab-df-convert:hover {\n",
              "      background-color: #434B5C;\n",
              "      box-shadow: 0px 1px 3px 1px rgba(0, 0, 0, 0.15);\n",
              "      filter: drop-shadow(0px 1px 2px rgba(0, 0, 0, 0.3));\n",
              "      fill: #FFFFFF;\n",
              "    }\n",
              "  </style>\n",
              "\n",
              "    <script>\n",
              "      const buttonEl =\n",
              "        document.querySelector('#df-7994de9d-0284-4194-8116-056d7fc9d1b7 button.colab-df-convert');\n",
              "      buttonEl.style.display =\n",
              "        google.colab.kernel.accessAllowed ? 'block' : 'none';\n",
              "\n",
              "      async function convertToInteractive(key) {\n",
              "        const element = document.querySelector('#df-7994de9d-0284-4194-8116-056d7fc9d1b7');\n",
              "        const dataTable =\n",
              "          await google.colab.kernel.invokeFunction('convertToInteractive',\n",
              "                                                    [key], {});\n",
              "        if (!dataTable) return;\n",
              "\n",
              "        const docLinkHtml = 'Like what you see? Visit the ' +\n",
              "          '<a target=\"_blank\" href=https://colab.research.google.com/notebooks/data_table.ipynb>data table notebook</a>'\n",
              "          + ' to learn more about interactive tables.';\n",
              "        element.innerHTML = '';\n",
              "        dataTable['output_type'] = 'display_data';\n",
              "        await google.colab.output.renderOutput(dataTable, element);\n",
              "        const docLink = document.createElement('div');\n",
              "        docLink.innerHTML = docLinkHtml;\n",
              "        element.appendChild(docLink);\n",
              "      }\n",
              "    </script>\n",
              "  </div>\n",
              "\n",
              "\n",
              "<div id=\"df-254f4821-3c6d-44ee-bdfe-37cc5783226b\">\n",
              "  <button class=\"colab-df-quickchart\" onclick=\"quickchart('df-254f4821-3c6d-44ee-bdfe-37cc5783226b')\"\n",
              "            title=\"Suggest charts\"\n",
              "            style=\"display:none;\">\n",
              "\n",
              "<svg xmlns=\"http://www.w3.org/2000/svg\" height=\"24px\"viewBox=\"0 0 24 24\"\n",
              "     width=\"24px\">\n",
              "    <g>\n",
              "        <path d=\"M19 3H5c-1.1 0-2 .9-2 2v14c0 1.1.9 2 2 2h14c1.1 0 2-.9 2-2V5c0-1.1-.9-2-2-2zM9 17H7v-7h2v7zm4 0h-2V7h2v10zm4 0h-2v-4h2v4z\"/>\n",
              "    </g>\n",
              "</svg>\n",
              "  </button>\n",
              "\n",
              "<style>\n",
              "  .colab-df-quickchart {\n",
              "      --bg-color: #E8F0FE;\n",
              "      --fill-color: #1967D2;\n",
              "      --hover-bg-color: #E2EBFA;\n",
              "      --hover-fill-color: #174EA6;\n",
              "      --disabled-fill-color: #AAA;\n",
              "      --disabled-bg-color: #DDD;\n",
              "  }\n",
              "\n",
              "  [theme=dark] .colab-df-quickchart {\n",
              "      --bg-color: #3B4455;\n",
              "      --fill-color: #D2E3FC;\n",
              "      --hover-bg-color: #434B5C;\n",
              "      --hover-fill-color: #FFFFFF;\n",
              "      --disabled-bg-color: #3B4455;\n",
              "      --disabled-fill-color: #666;\n",
              "  }\n",
              "\n",
              "  .colab-df-quickchart {\n",
              "    background-color: var(--bg-color);\n",
              "    border: none;\n",
              "    border-radius: 50%;\n",
              "    cursor: pointer;\n",
              "    display: none;\n",
              "    fill: var(--fill-color);\n",
              "    height: 32px;\n",
              "    padding: 0;\n",
              "    width: 32px;\n",
              "  }\n",
              "\n",
              "  .colab-df-quickchart:hover {\n",
              "    background-color: var(--hover-bg-color);\n",
              "    box-shadow: 0 1px 2px rgba(60, 64, 67, 0.3), 0 1px 3px 1px rgba(60, 64, 67, 0.15);\n",
              "    fill: var(--button-hover-fill-color);\n",
              "  }\n",
              "\n",
              "  .colab-df-quickchart-complete:disabled,\n",
              "  .colab-df-quickchart-complete:disabled:hover {\n",
              "    background-color: var(--disabled-bg-color);\n",
              "    fill: var(--disabled-fill-color);\n",
              "    box-shadow: none;\n",
              "  }\n",
              "\n",
              "  .colab-df-spinner {\n",
              "    border: 2px solid var(--fill-color);\n",
              "    border-color: transparent;\n",
              "    border-bottom-color: var(--fill-color);\n",
              "    animation:\n",
              "      spin 1s steps(1) infinite;\n",
              "  }\n",
              "\n",
              "  @keyframes spin {\n",
              "    0% {\n",
              "      border-color: transparent;\n",
              "      border-bottom-color: var(--fill-color);\n",
              "      border-left-color: var(--fill-color);\n",
              "    }\n",
              "    20% {\n",
              "      border-color: transparent;\n",
              "      border-left-color: var(--fill-color);\n",
              "      border-top-color: var(--fill-color);\n",
              "    }\n",
              "    30% {\n",
              "      border-color: transparent;\n",
              "      border-left-color: var(--fill-color);\n",
              "      border-top-color: var(--fill-color);\n",
              "      border-right-color: var(--fill-color);\n",
              "    }\n",
              "    40% {\n",
              "      border-color: transparent;\n",
              "      border-right-color: var(--fill-color);\n",
              "      border-top-color: var(--fill-color);\n",
              "    }\n",
              "    60% {\n",
              "      border-color: transparent;\n",
              "      border-right-color: var(--fill-color);\n",
              "    }\n",
              "    80% {\n",
              "      border-color: transparent;\n",
              "      border-right-color: var(--fill-color);\n",
              "      border-bottom-color: var(--fill-color);\n",
              "    }\n",
              "    90% {\n",
              "      border-color: transparent;\n",
              "      border-bottom-color: var(--fill-color);\n",
              "    }\n",
              "  }\n",
              "</style>\n",
              "\n",
              "  <script>\n",
              "    async function quickchart(key) {\n",
              "      const quickchartButtonEl =\n",
              "        document.querySelector('#' + key + ' button');\n",
              "      quickchartButtonEl.disabled = true;  // To prevent multiple clicks.\n",
              "      quickchartButtonEl.classList.add('colab-df-spinner');\n",
              "      try {\n",
              "        const charts = await google.colab.kernel.invokeFunction(\n",
              "            'suggestCharts', [key], {});\n",
              "      } catch (error) {\n",
              "        console.error('Error during call to suggestCharts:', error);\n",
              "      }\n",
              "      quickchartButtonEl.classList.remove('colab-df-spinner');\n",
              "      quickchartButtonEl.classList.add('colab-df-quickchart-complete');\n",
              "    }\n",
              "    (() => {\n",
              "      let quickchartButtonEl =\n",
              "        document.querySelector('#df-254f4821-3c6d-44ee-bdfe-37cc5783226b button');\n",
              "      quickchartButtonEl.style.display =\n",
              "        google.colab.kernel.accessAllowed ? 'block' : 'none';\n",
              "    })();\n",
              "  </script>\n",
              "</div>\n",
              "\n",
              "  <div id=\"id_18f54945-ec89-4fc6-9e0a-c4bca1e13b34\">\n",
              "    <style>\n",
              "      .colab-df-generate {\n",
              "        background-color: #E8F0FE;\n",
              "        border: none;\n",
              "        border-radius: 50%;\n",
              "        cursor: pointer;\n",
              "        display: none;\n",
              "        fill: #1967D2;\n",
              "        height: 32px;\n",
              "        padding: 0 0 0 0;\n",
              "        width: 32px;\n",
              "      }\n",
              "\n",
              "      .colab-df-generate:hover {\n",
              "        background-color: #E2EBFA;\n",
              "        box-shadow: 0px 1px 2px rgba(60, 64, 67, 0.3), 0px 1px 3px 1px rgba(60, 64, 67, 0.15);\n",
              "        fill: #174EA6;\n",
              "      }\n",
              "\n",
              "      [theme=dark] .colab-df-generate {\n",
              "        background-color: #3B4455;\n",
              "        fill: #D2E3FC;\n",
              "      }\n",
              "\n",
              "      [theme=dark] .colab-df-generate:hover {\n",
              "        background-color: #434B5C;\n",
              "        box-shadow: 0px 1px 3px 1px rgba(0, 0, 0, 0.15);\n",
              "        filter: drop-shadow(0px 1px 2px rgba(0, 0, 0, 0.3));\n",
              "        fill: #FFFFFF;\n",
              "      }\n",
              "    </style>\n",
              "    <button class=\"colab-df-generate\" onclick=\"generateWithVariable('df')\"\n",
              "            title=\"Generate code using this dataframe.\"\n",
              "            style=\"display:none;\">\n",
              "\n",
              "  <svg xmlns=\"http://www.w3.org/2000/svg\" height=\"24px\"viewBox=\"0 0 24 24\"\n",
              "       width=\"24px\">\n",
              "    <path d=\"M7,19H8.4L18.45,9,17,7.55,7,17.6ZM5,21V16.75L18.45,3.32a2,2,0,0,1,2.83,0l1.4,1.43a1.91,1.91,0,0,1,.58,1.4,1.91,1.91,0,0,1-.58,1.4L9.25,21ZM18.45,9,17,7.55Zm-12,3A5.31,5.31,0,0,0,4.9,8.1,5.31,5.31,0,0,0,1,6.5,5.31,5.31,0,0,0,4.9,4.9,5.31,5.31,0,0,0,6.5,1,5.31,5.31,0,0,0,8.1,4.9,5.31,5.31,0,0,0,12,6.5,5.46,5.46,0,0,0,6.5,12Z\"/>\n",
              "  </svg>\n",
              "    </button>\n",
              "    <script>\n",
              "      (() => {\n",
              "      const buttonEl =\n",
              "        document.querySelector('#id_18f54945-ec89-4fc6-9e0a-c4bca1e13b34 button.colab-df-generate');\n",
              "      buttonEl.style.display =\n",
              "        google.colab.kernel.accessAllowed ? 'block' : 'none';\n",
              "\n",
              "      buttonEl.onclick = () => {\n",
              "        google.colab.notebook.generateWithVariable('df');\n",
              "      }\n",
              "      })();\n",
              "    </script>\n",
              "  </div>\n",
              "\n",
              "    </div>\n",
              "  </div>\n"
            ],
            "application/vnd.google.colaboratory.intrinsic+json": {
              "type": "dataframe",
              "variable_name": "df",
              "summary": "{\n  \"name\": \"df\",\n  \"rows\": 29511,\n  \"fields\": [\n    {\n      \"column\": \"LastName\",\n      \"properties\": {\n        \"dtype\": \"category\",\n        \"num_unique_values\": 11438,\n        \"samples\": [\n          \"SCHOENFELDT\",\n          \"WALLOCH\",\n          \"JARDINES-VALDES\"\n        ],\n        \"semantic_type\": \"\",\n        \"description\": \"\"\n      }\n    },\n    {\n      \"column\": \"FirstName\",\n      \"properties\": {\n        \"dtype\": \"category\",\n        \"num_unique_values\": 8095,\n        \"samples\": [\n          \"RODWELL\",\n          \"RIKI\",\n          \"KEYSA\"\n        ],\n        \"semantic_type\": \"\",\n        \"description\": \"\"\n      }\n    },\n    {\n      \"column\": \"MiddleInitial\",\n      \"properties\": {\n        \"dtype\": \"category\",\n        \"num_unique_values\": 1294,\n        \"samples\": [\n          \"GONZALEZ\",\n          \"JERMAINE\",\n          \"COLLIS\"\n        ],\n        \"semantic_type\": \"\",\n        \"description\": \"\"\n      }\n    },\n    {\n      \"column\": \"Title\",\n      \"properties\": {\n        \"dtype\": \"category\",\n        \"num_unique_values\": 2457,\n        \"samples\": [\n          \"W&S REFRIG/AC MECHANIC\",\n          \"CORRECTIONS DIVISION CHIEF\",\n          \"POLICE FINANCIAL INVESTIGATOR\"\n        ],\n        \"semantic_type\": \"\",\n        \"description\": \"\"\n      }\n    },\n    {\n      \"column\": \"DeptName\",\n      \"properties\": {\n        \"dtype\": \"category\",\n        \"num_unique_values\": 44,\n        \"samples\": [\n          \"CAREERSOURCE SOUTH FLORIDA\",\n          \"TAX COLLECTOR\",\n          \"STRATEGIC PROCUREMENT\"\n        ],\n        \"semantic_type\": \"\",\n        \"description\": \"\"\n      }\n    },\n    {\n      \"column\": \"AnnualSalary\",\n      \"properties\": {\n        \"dtype\": \"number\",\n        \"std\": 32801.06156243391,\n        \"min\": 2340.0,\n        \"max\": 177052.542,\n        \"num_unique_values\": 8128,\n        \"samples\": [\n          109619.224,\n          111852.861,\n          43634.421\n        ],\n        \"semantic_type\": \"\",\n        \"description\": \"\"\n      }\n    },\n    {\n      \"column\": \"GrossPayLastPaycheck\",\n      \"properties\": {\n        \"dtype\": \"number\",\n        \"std\": 2140.6576615978665,\n        \"min\": 0.01,\n        \"max\": 77566.74,\n        \"num_unique_values\": 20335,\n        \"samples\": [\n          2185.22,\n          2613.96,\n          7954.65\n        ],\n        \"semantic_type\": \"\",\n        \"description\": \"\"\n      }\n    },\n    {\n      \"column\": \"GrossYTD\",\n      \"properties\": {\n        \"dtype\": \"number\",\n        \"std\": 2957.388058666421,\n        \"min\": 0.01,\n        \"max\": 159571.93,\n        \"num_unique_values\": 20464,\n        \"samples\": [\n          3930.98,\n          5557.48,\n          4902.07\n        ],\n        \"semantic_type\": \"\",\n        \"description\": \"\"\n      }\n    },\n    {\n      \"column\": \"ObjectId\",\n      \"properties\": {\n        \"dtype\": \"number\",\n        \"std\": 8678,\n        \"min\": 1,\n        \"max\": 30080,\n        \"num_unique_values\": 29511,\n        \"samples\": [\n          3993,\n          19646,\n          18257\n        ],\n        \"semantic_type\": \"\",\n        \"description\": \"\"\n      }\n    }\n  ]\n}"
            }
          },
          "metadata": {},
          "execution_count": 104
        }
      ]
    },
    {
      "cell_type": "code",
      "source": [
        "sns.boxplot(x=df['AnnualSalary'])\n",
        "plt.show()"
      ],
      "metadata": {
        "colab": {
          "base_uri": "https://localhost:8080/",
          "height": 449
        },
        "id": "mB1l62ok_otr",
        "outputId": "8b9487f4-742e-4cee-bcea-c446b0918842"
      },
      "execution_count": 105,
      "outputs": [
        {
          "output_type": "display_data",
          "data": {
            "text/plain": [
              "<Figure size 640x480 with 1 Axes>"
            ],
            "image/png": "[encoded data removed]"
          },
          "metadata": {}
        }
      ]
    },
    {
      "cell_type": "markdown",
      "source": [
        "# Winsorize Method of Identifying and Removing Outliers"
      ],
      "metadata": {
        "id": "YM8ajeRFHzRV"
      }
    },
    {
      "cell_type": "code",
      "source": [
        "print(df.head())"
      ],
      "metadata": {
        "id": "YNOoRq4_MiiU",
        "outputId": "dce51870-7ca2-4cf2-dc33-a6cdb70d536d",
        "colab": {
          "base_uri": "https://localhost:8080/"
        }
      },
      "execution_count": 106,
      "outputs": [
        {
          "output_type": "stream",
          "name": "stdout",
          "text": [
            "  LastName FirstName MiddleInitial                        Title  \\\n",
            "0      LUC   AUNDREA             S  WASTE ENFORCEMENT OFFICER 1   \n",
            "1      LUE    KEISHA         RENEE   SHARED SERVICES SPECIALIST   \n",
            "2      LUO       SEI             Y                    SECRETARY   \n",
            "3      LYS   JACQUES             E    DTPW SERVICE SPECIALIST 2   \n",
            "4      MAS      JOSE             R       RER PERMIT & PLANS REP   \n",
            "\n",
            "                         DeptName  AnnualSalary  GrossPayLastPaycheck  \\\n",
            "0          SOLID WASTE MANAGEMENT     81592.186               9359.04   \n",
            "1                 HUMAN RESOURCES     56423.161               2756.12   \n",
            "2                          POLICE     40767.761               1640.86   \n",
            "3   TRANSPORTATION & PUBLIC WORKS     87534.450               3410.16   \n",
            "4  REGULATORY & ECONOMIC RESOURCE     59237.468               2321.84   \n",
            "\n",
            "   GrossYTD  ObjectId  \n",
            "0   9359.04         1  \n",
            "1   2756.12         2  \n",
            "2   1640.86         3  \n",
            "3   3410.16         4  \n",
            "4   2321.84         5  \n"
          ]
        }
      ]
    },
    {
      "cell_type": "code",
      "source": [
        "for col in ['AnnualSalary', 'GrossPayLastPaycheck', 'GrossYTD']:\n",
        "    plt.figure(figsize=(10, 6))\n",
        "    sns.boxplot(x=df[col])\n",
        "    plt.title(f'Box Plot of Original {col}')\n",
        "    plt.show()"
      ],
      "metadata": {
        "id": "RcEPAKuEI_RT",
        "outputId": "7d50404c-b3fa-4270-fb69-bdc6ab931d99",
        "colab": {
          "base_uri": "https://localhost:8080/",
          "height": 1000
        }
      },
      "execution_count": 109,
      "outputs": [
        {
          "output_type": "display_data",
          "data": {
            "text/plain": [
              "<Figure size 1000x600 with 1 Axes>"
            ],
            "image/png": "[encoded data removed]"
          },
          "metadata": {}
        },
        {
          "output_type": "display_data",
          "data": {
            "text/plain": [
              "<Figure size 1000x600 with 1 Axes>"
            ],
            "image/png": "[encoded data removed]"
          },
          "metadata": {}
        },
        {
          "output_type": "display_data",
          "data": {
            "text/plain": [
              "<Figure size 1000x600 with 1 Axes>"
            ],
            "image/png": "[encoded data removed]"
          },
          "metadata": {}
        }
      ]
    },
    {
      "cell_type": "code",
      "source": [
        "    # Histogram for original data\n",
        "    plt.figure(figsize=(10, 6))\n",
        "    sns.distplot(df[col], bins=10, kde=False)\n",
        "    plt.title(f'Histogram of Original {col}')\n",
        "    plt.xlabel(col)\n",
        "    plt.ylabel('Frequency')\n",
        "    plt.show()"
      ],
      "metadata": {
        "id": "cxbcPmEyM2sY",
        "outputId": "40fab909-6c91-4889-b320-dda71b3e08c8",
        "colab": {
          "base_uri": "https://localhost:8080/",
          "height": 755
        }
      },
      "execution_count": 110,
      "outputs": [
        {
          "output_type": "stream",
          "name": "stderr",
          "text": [
            "<ipython-input-110-f69126cb738e>:3: UserWarning: \n",
            "\n",
            "`distplot` is a deprecated function and will be removed in seaborn v0.14.0.\n",
            "\n",
            "Please adapt your code to use either `displot` (a figure-level function with\n",
            "similar flexibility) or `histplot` (an axes-level function for histograms).\n",
            "\n",
            "For a guide to updating your code to use the new functions, please see\n",
            "https://gist.github.com/mwaskom/de44147ed2974457ad6372750bbe5751\n",
            "\n",
            "  sns.distplot(df[col], bins=10, kde=False)\n"
          ]
        },
        {
          "output_type": "display_data",
          "data": {
            "text/plain": [
              "<Figure size 1000x600 with 1 Axes>"
            ],
            "image/png": "[encoded data removed]"
          },
          "metadata": {}
        }
      ]
    },
    {
      "cell_type": "code",
      "source": [
        "def winsorize_column(df, column, limits=[0.01, 0.01]):\n",
        "    # Winsorizing the column\n",
        "    df[f\"{column}_Winsorized\"] = winsorize(df[column], limits=limits)\n",
        "\n",
        "    # Display the first few rows of the winsorized data\n",
        "    print(f\"\\nFirst Few Rows of Winsorized {column}:\")\n",
        "    print(df[f\"{column}_Winsorized\"].head())"
      ],
      "metadata": {
        "id": "F3szP0zsMv_L"
      },
      "execution_count": 111,
      "outputs": []
    },
    {
      "cell_type": "code",
      "source": [
        "    # Box plot for winsorized data\n",
        "    plt.figure(figsize=(10, 6))\n",
        "    sns.boxplot(x=df[f\"{column}_Winsorized\"])\n",
        "    plt.title(f'Box Plot of Winsorized {column}')\n",
        "    plt.show()\n",
        "    # Histogram for winsorized data\n",
        "    plt.figure(figsize=(10, 6))\n",
        "    sns.distplot(df[f\"{column}_Winsorized\"], bins=10, kde=False)\n",
        "    plt.title(f'Histogram of Winsorized {column}')\n",
        "    plt.xlabel(f\"{column}_Winsorized\")\n",
        "    plt.ylabel('Frequency')\n",
        "    plt.show()"
      ],
      "metadata": {
        "id": "3c00GqGXM_CI",
        "outputId": "e8586817-4293-433b-a486-37147999bb57",
        "colab": {
          "base_uri": "https://localhost:8080/",
          "height": 228
        }
      },
      "execution_count": 113,
      "outputs": [
        {
          "output_type": "error",
          "ename": "NameError",
          "evalue": "name 'column' is not defined",
          "traceback": [
            "\u001b[0;31m---------------------------------------------------------------------------\u001b[0m",
            "\u001b[0;31mNameError\u001b[0m                                 Traceback (most recent call last)",
            "\u001b[0;32m<ipython-input-113-177494bb66b4>\u001b[0m in \u001b[0;36m<cell line: 0>\u001b[0;34m()\u001b[0m\n\u001b[1;32m      1\u001b[0m \u001b[0;31m# Box plot for winsorized data\u001b[0m\u001b[0;34m\u001b[0m\u001b[0;34m\u001b[0m\u001b[0m\n\u001b[1;32m      2\u001b[0m \u001b[0mplt\u001b[0m\u001b[0;34m.\u001b[0m\u001b[0mfigure\u001b[0m\u001b[0;34m(\u001b[0m\u001b[0mfigsize\u001b[0m\u001b[0;34m=\u001b[0m\u001b[0;34m(\u001b[0m\u001b[0;36m10\u001b[0m\u001b[0;34m,\u001b[0m \u001b[0;36m6\u001b[0m\u001b[0;34m)\u001b[0m\u001b[0;34m)\u001b[0m\u001b[0;34m\u001b[0m\u001b[0;34m\u001b[0m\u001b[0m\n\u001b[0;32m----> 3\u001b[0;31m \u001b[0msns\u001b[0m\u001b[0;34m.\u001b[0m\u001b[0mboxplot\u001b[0m\u001b[0;34m(\u001b[0m\u001b[0mx\u001b[0m\u001b[0;34m=\u001b[0m\u001b[0mdf\u001b[0m\u001b[0;34m[\u001b[0m\u001b[0;34mf\"{column}_Winsorized\"\u001b[0m\u001b[0;34m]\u001b[0m\u001b[0;34m)\u001b[0m\u001b[0;34m\u001b[0m\u001b[0;34m\u001b[0m\u001b[0m\n\u001b[0m\u001b[1;32m      4\u001b[0m \u001b[0mplt\u001b[0m\u001b[0;34m.\u001b[0m\u001b[0mtitle\u001b[0m\u001b[0;34m(\u001b[0m\u001b[0;34mf'Box Plot of Winsorized {column}'\u001b[0m\u001b[0;34m)\u001b[0m\u001b[0;34m\u001b[0m\u001b[0;34m\u001b[0m\u001b[0m\n\u001b[1;32m      5\u001b[0m \u001b[0mplt\u001b[0m\u001b[0;34m.\u001b[0m\u001b[0mshow\u001b[0m\u001b[0;34m(\u001b[0m\u001b[0;34m)\u001b[0m\u001b[0;34m\u001b[0m\u001b[0;34m\u001b[0m\u001b[0m\n",
            "\u001b[0;31mNameError\u001b[0m: name 'column' is not defined"
          ]
        },
        {
          "output_type": "display_data",
          "data": {
            "text/plain": [
              "<Figure size 1000x600 with 0 Axes>"
            ]
          },
          "metadata": {}
        }
      ]
    },
    {
      "cell_type": "markdown",
      "source": [
        "# Log Transformation"
      ],
      "metadata": {
        "id": "mS5qT_rJK6i1"
      }
    },
    {
      "cell_type": "code",
      "source": [
        "print(df.head())"
      ],
      "metadata": {
        "id": "1Na1WIDLK6tQ",
        "outputId": "6b6283ee-0616-4faf-b23d-219aa564f28d",
        "colab": {
          "base_uri": "https://localhost:8080/"
        }
      },
      "execution_count": 82,
      "outputs": [
        {
          "output_type": "stream",
          "name": "stdout",
          "text": [
            "  LastName FirstName MiddleInitial                        Title  \\\n",
            "0      LUC   AUNDREA             S  WASTE ENFORCEMENT OFFICER 1   \n",
            "1      LUE    KEISHA         RENEE   SHARED SERVICES SPECIALIST   \n",
            "2      LUO       SEI             Y                    SECRETARY   \n",
            "3      LYS   JACQUES             E    DTPW SERVICE SPECIALIST 2   \n",
            "4      MAS      JOSE             R       RER PERMIT & PLANS REP   \n",
            "\n",
            "                         DeptName  AnnualSalary  GrossPayLastPaycheck  \\\n",
            "0          SOLID WASTE MANAGEMENT     81592.186               9359.04   \n",
            "1                 HUMAN RESOURCES     56423.161               2756.12   \n",
            "2                          POLICE     40767.761               1640.86   \n",
            "3   TRANSPORTATION & PUBLIC WORKS     87534.450               3410.16   \n",
            "4  REGULATORY & ECONOMIC RESOURCE     59237.468               2321.84   \n",
            "\n",
            "   GrossYTD  ObjectId  AnnualSalary_Winsorized  \\\n",
            "0   9359.04         1                81592.186   \n",
            "1   2756.12         2                56423.161   \n",
            "2   1640.86         3                40767.761   \n",
            "3   3410.16         4                87534.450   \n",
            "4   2321.84         5                59237.468   \n",
            "\n",
            "   GrossPayLastPaycheck_Winsorized  GrossYTD_Winsorized  \n",
            "0                          7041.61              7293.38  \n",
            "1                          2756.12              2756.12  \n",
            "2                          1640.86              1640.86  \n",
            "3                          3410.16              3410.16  \n",
            "4                          2321.84              2321.84  \n"
          ]
        }
      ]
    },
    {
      "cell_type": "code",
      "source": [
        "for col in ['AnnualSalary', 'GrossPayLastPaycheck', 'GrossYTD']:\n",
        "    plt.figure(figsize=(10, 6))\n",
        "    sns.boxplot(x=df[col])\n",
        "    plt.title(f'Box Plot of Original {col}')\n",
        "    plt.show()\n",
        "\n",
        "    # Histogram for original data\n",
        "    plt.figure(figsize=(10, 6))\n",
        "    sns.distplot(df[col], bins=10, kde=False)\n",
        "    plt.title(f'Histogram of Original {col}')\n",
        "    plt.xlabel(col)\n",
        "    plt.ylabel('Frequency')\n",
        "    plt.show()"
      ],
      "metadata": {
        "id": "UgmE_YjWL7x0",
        "outputId": "a77b7a0e-4e79-46fc-dc52-725a692b8a72",
        "colab": {
          "base_uri": "https://localhost:8080/",
          "height": 1000
        }
      },
      "execution_count": 83,
      "outputs": [
        {
          "output_type": "display_data",
          "data": {
            "text/plain": [
              "<Figure size 1000x600 with 1 Axes>"
            ],
            "image/png": "[encoded data removed]"
          },
          "metadata": {}
        },
        {
          "output_type": "stream",
          "name": "stderr",
          "text": [
            "<ipython-input-83-68c7b59b37a5>:9: UserWarning: \n",
            "\n",
            "`distplot` is a deprecated function and will be removed in seaborn v0.14.0.\n",
            "\n",
            "Please adapt your code to use either `displot` (a figure-level function with\n",
            "similar flexibility) or `histplot` (an axes-level function for histograms).\n",
            "\n",
            "For a guide to updating your code to use the new functions, please see\n",
            "https://gist.github.com/mwaskom/de44147ed2974457ad6372750bbe5751\n",
            "\n",
            "  sns.distplot(df[col], bins=10, kde=False)\n"
          ]
        },
        {
          "output_type": "display_data",
          "data": {
            "text/plain": [
              "<Figure size 1000x600 with 1 Axes>"
            ],
            "image/png": "[encoded data removed]"
          },
          "metadata": {}
        },
        {
          "output_type": "display_data",
          "data": {
            "text/plain": [
              "<Figure size 1000x600 with 1 Axes>"
            ],
            "image/png": "[encoded data removed]"
          },
          "metadata": {}
        },
        {
          "output_type": "stream",
          "name": "stderr",
          "text": [
            "<ipython-input-83-68c7b59b37a5>:9: UserWarning: \n",
            "\n",
            "`distplot` is a deprecated function and will be removed in seaborn v0.14.0.\n",
            "\n",
            "Please adapt your code to use either `displot` (a figure-level function with\n",
            "similar flexibility) or `histplot` (an axes-level function for histograms).\n",
            "\n",
            "For a guide to updating your code to use the new functions, please see\n",
            "https://gist.github.com/mwaskom/de44147ed2974457ad6372750bbe5751\n",
            "\n",
            "  sns.distplot(df[col], bins=10, kde=False)\n"
          ]
        },
        {
          "output_type": "display_data",
          "data": {
            "text/plain": [
              "<Figure size 1000x600 with 1 Axes>"
            ],
            "image/png": "[encoded data removed]"
          },
          "metadata": {}
        },
        {
          "output_type": "display_data",
          "data": {
            "text/plain": [
              "<Figure size 1000x600 with 1 Axes>"
            ],
            "image/png": "[encoded data removed]"
          },
          "metadata": {}
        },
        {
          "output_type": "stream",
          "name": "stderr",
          "text": [
            "<ipython-input-83-68c7b59b37a5>:9: UserWarning: \n",
            "\n",
            "`distplot` is a deprecated function and will be removed in seaborn v0.14.0.\n",
            "\n",
            "Please adapt your code to use either `displot` (a figure-level function with\n",
            "similar flexibility) or `histplot` (an axes-level function for histograms).\n",
            "\n",
            "For a guide to updating your code to use the new functions, please see\n",
            "https://gist.github.com/mwaskom/de44147ed2974457ad6372750bbe5751\n",
            "\n",
            "  sns.distplot(df[col], bins=10, kde=False)\n"
          ]
        },
        {
          "output_type": "display_data",
          "data": {
            "text/plain": [
              "<Figure size 1000x600 with 1 Axes>"
            ],
            "image/png": "[encoded data removed]"
          },
          "metadata": {}
        }
      ]
    }
  ]
}