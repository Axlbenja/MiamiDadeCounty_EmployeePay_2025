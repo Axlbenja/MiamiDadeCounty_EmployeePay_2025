{
  "nbformat": 4,
  "nbformat_minor": 0,
  "metadata": {
    "colab": {
      "provenance": [],
      "authorship_tag": "ABX9TyMN7bN07/MSCsqLvbqHgFCN",
      "include_colab_link": true
    },
    "kernelspec": {
      "name": "python3",
      "display_name": "Python 3"
    },
    "language_info": {
      "name": "python"
    }
  },
  "cells": [
    {
      "cell_type": "markdown",
      "metadata": {
        "id": "view-in-github",
        "colab_type": "text"
      },
      "source": [
        "<a href=\"https://colab.research.google.com/github/Axlbenja/MiamiDadeCounty_EmployeePay_2025/blob/main/Module_3_%E2%80%94_Axel_Paredes.ipynb\" target=\"_parent\"><img src=\"https://colab.research.google.com/assets/colab-badge.svg\" alt=\"Open In Colab\"/></a>"
      ]
    },
    {
      "cell_type": "code",
      "source": [
        "import pandas as pd\n",
        "import numpy as np\n",
        "from sklearn.model_selection import train_test_split\n",
        "from sklearn.preprocessing import OneHotEncoder\n",
        "from sklearn.compose import ColumnTransformer\n",
        "from sklearn.metrics import roc_auc_score\n",
        "from time import time\n",
        "from sklearn.metrics import explained_variance_score, mean_absolute_error, r2_score\n",
        "from matplotlib import pyplot\n",
        "from sklearn.ensemble import RandomForestRegressor\n",
        "from sklearn.model_selection import KFold, cross_val_score\n",
        "from sklearn.linear_model import LogisticRegression, SGDClassifier, RidgeClassifier, PassiveAggressiveClassifier, Perceptron\n",
        "from sklearn.tree import DecisionTreeClassifier, ExtraTreeClassifier\n",
        "from sklearn.neighbors import KNeighborsClassifier, NearestCentroid\n",
        "from sklearn.discriminant_analysis import LinearDiscriminantAnalysis, QuadraticDiscriminantAnalysis\n",
        "from sklearn.naive_bayes import GaussianNB, BernoulliNB\n",
        "from sklearn.svm import SVC, NuSVC, LinearSVC\n",
        "from sklearn.ensemble import RandomForestClassifier, GradientBoostingClassifier, ExtraTreesClassifier, BaggingClassifier, AdaBoostClassifier\n",
        "from sklearn.neural_network import MLPClassifier\n",
        "from xgboost import XGBClassifier\n",
        "import seaborn as sns\n",
        "import matplotlib.pyplot as plt\n",
        "!pip install seaborn"
      ],
      "metadata": {
        "colab": {
          "base_uri": "https://localhost:8080/"
        },
        "id": "v6a-gawgnxCk",
        "outputId": "be540b51-d5db-4e03-9e95-dd9183625f7f"
      },
      "execution_count": 31,
      "outputs": [
        {
          "output_type": "stream",
          "name": "stdout",
          "text": [
            "Requirement already satisfied: seaborn in /usr/local/lib/python3.11/dist-packages (0.13.2)\n",
            "Requirement already satisfied: numpy!=1.24.0,>=1.20 in /usr/local/lib/python3.11/dist-packages (from seaborn) (1.26.4)\n",
            "Requirement already satisfied: pandas>=1.2 in /usr/local/lib/python3.11/dist-packages (from seaborn) (2.2.2)\n",
            "Requirement already satisfied: matplotlib!=3.6.1,>=3.4 in /usr/local/lib/python3.11/dist-packages (from seaborn) (3.10.0)\n",
            "Requirement already satisfied: contourpy>=1.0.1 in /usr/local/lib/python3.11/dist-packages (from matplotlib!=3.6.1,>=3.4->seaborn) (1.3.1)\n",
            "Requirement already satisfied: cycler>=0.10 in /usr/local/lib/python3.11/dist-packages (from matplotlib!=3.6.1,>=3.4->seaborn) (0.12.1)\n",
            "Requirement already satisfied: fonttools>=4.22.0 in /usr/local/lib/python3.11/dist-packages (from matplotlib!=3.6.1,>=3.4->seaborn) (4.55.7)\n",
            "Requirement already satisfied: kiwisolver>=1.3.1 in /usr/local/lib/python3.11/dist-packages (from matplotlib!=3.6.1,>=3.4->seaborn) (1.4.8)\n",
            "Requirement already satisfied: packaging>=20.0 in /usr/local/lib/python3.11/dist-packages (from matplotlib!=3.6.1,>=3.4->seaborn) (24.2)\n",
            "Requirement already satisfied: pillow>=8 in /usr/local/lib/python3.11/dist-packages (from matplotlib!=3.6.1,>=3.4->seaborn) (11.1.0)\n",
            "Requirement already satisfied: pyparsing>=2.3.1 in /usr/local/lib/python3.11/dist-packages (from matplotlib!=3.6.1,>=3.4->seaborn) (3.2.1)\n",
            "Requirement already satisfied: python-dateutil>=2.7 in /usr/local/lib/python3.11/dist-packages (from matplotlib!=3.6.1,>=3.4->seaborn) (2.8.2)\n",
            "Requirement already satisfied: pytz>=2020.1 in /usr/local/lib/python3.11/dist-packages (from pandas>=1.2->seaborn) (2024.2)\n",
            "Requirement already satisfied: tzdata>=2022.7 in /usr/local/lib/python3.11/dist-packages (from pandas>=1.2->seaborn) (2025.1)\n",
            "Requirement already satisfied: six>=1.5 in /usr/local/lib/python3.11/dist-packages (from python-dateutil>=2.7->matplotlib!=3.6.1,>=3.4->seaborn) (1.17.0)\n"
          ]
        }
      ]
    },
    {
      "cell_type": "code",
      "execution_count": 4,
      "metadata": {
        "colab": {
          "base_uri": "https://localhost:8080/"
        },
        "id": "G67LLhn1nj9Z",
        "outputId": "4e8d0f4d-c2fd-476c-80f6-541e00f097cb"
      },
      "outputs": [
        {
          "output_type": "stream",
          "name": "stdout",
          "text": [
            "Original number of rows: 2577\n"
          ]
        }
      ],
      "source": [
        "df = pd.read_csv(\"https://raw.githubusercontent.com/fenago/dw/refs/heads/main/ramen-ratings.csv\")\n",
        "original_rows = df.shape[0]\n",
        "print(f\"Original number of rows: {original_rows}\")"
      ]
    },
    {
      "cell_type": "code",
      "source": [
        "#Renaming the collumn\n",
        "df.rename(columns={'Stars': 'Rating'}, inplace=True)"
      ],
      "metadata": {
        "id": "jm6-eJPinxE3"
      },
      "execution_count": 5,
      "outputs": []
    },
    {
      "cell_type": "code",
      "source": [
        "#Converting the column\n",
        "df['Style'] = df['Style'].astype('category')"
      ],
      "metadata": {
        "id": "ibkf5af6nxHC"
      },
      "execution_count": 7,
      "outputs": []
    },
    {
      "cell_type": "code",
      "source": [
        "print(\"\\nAfter initial changes:\")\n",
        "print(df.info())\n",
        "print(df.head())"
      ],
      "metadata": {
        "colab": {
          "base_uri": "https://localhost:8080/"
        },
        "id": "5H1gMOGXnxJW",
        "outputId": "85ae0e34-d183-46f7-e3f3-4e9489122e3d"
      },
      "execution_count": 8,
      "outputs": [
        {
          "output_type": "stream",
          "name": "stdout",
          "text": [
            "\n",
            "After initial changes:\n",
            "<class 'pandas.core.frame.DataFrame'>\n",
            "RangeIndex: 2577 entries, 0 to 2576\n",
            "Data columns (total 5 columns):\n",
            " #   Column   Non-Null Count  Dtype   \n",
            "---  ------   --------------  -----   \n",
            " 0   Brand    2577 non-null   object  \n",
            " 1   Variety  2577 non-null   object  \n",
            " 2   Style    2575 non-null   category\n",
            " 3   Country  2577 non-null   object  \n",
            " 4   Rating   2577 non-null   float64 \n",
            "dtypes: category(1), float64(1), object(3)\n",
            "memory usage: 83.5+ KB\n",
            "None\n",
            "            Brand                                            Variety Style  \\\n",
            "0       New Touch                          T's Restaurant Tantanmen    Cup   \n",
            "1        Just Way  Noodles Spicy Hot Sesame Spicy Hot Sesame Guan...  Pack   \n",
            "2          Nissin                      Cup Noodles Chicken Vegetable   Cup   \n",
            "3         Wei Lih                      GGE Ramen Snack Tomato Flavor  Pack   \n",
            "4  Ching's Secret                                    Singapore Curry  Pack   \n",
            "\n",
            "  Country  Rating  \n",
            "0   Japan    3.75  \n",
            "1  Taiwan    1.00  \n",
            "2     USA    2.25  \n",
            "3  Taiwan    2.75  \n",
            "4   India    3.75  \n"
          ]
        }
      ]
    },
    {
      "cell_type": "code",
      "source": [
        "df.rename(columns={'Brand': 'Company', 'Variety': 'Product'}, inplace=True)"
      ],
      "metadata": {
        "id": "M3Mvqc_onxLa"
      },
      "execution_count": 9,
      "outputs": []
    },
    {
      "cell_type": "code",
      "source": [
        "duplicates = df[df.duplicated(subset=['Company', 'Product'], keep=False)]\n",
        "print(f\"\\nNumber of duplicate rows based on Company/Product: {duplicates.shape[0]}\")"
      ],
      "metadata": {
        "colab": {
          "base_uri": "https://localhost:8080/"
        },
        "id": "nthlyYp5nxNt",
        "outputId": "1763338c-76f1-452a-aba3-2ae598a36297"
      },
      "execution_count": 10,
      "outputs": [
        {
          "output_type": "stream",
          "name": "stdout",
          "text": [
            "\n",
            "Number of duplicate rows based on Company/Product: 118\n"
          ]
        }
      ]
    },
    {
      "cell_type": "code",
      "source": [
        "df.drop_duplicates(subset=['Company', 'Product'], keep='first', inplace=True)\n",
        "print(f\"Number of rows after dropping duplicates: {df.shape[0]}\")\n",
        "print(f\"Number of rows dropped: {original_rows - df.shape[0]}\")"
      ],
      "metadata": {
        "colab": {
          "base_uri": "https://localhost:8080/"
        },
        "id": "YAvxQLQ5nxP8",
        "outputId": "08e31846-5546-453a-849f-34c42342134b"
      },
      "execution_count": 11,
      "outputs": [
        {
          "output_type": "stream",
          "name": "stdout",
          "text": [
            "Number of rows after dropping duplicates: 2517\n",
            "Number of rows dropped: 60\n"
          ]
        }
      ]
    },
    {
      "cell_type": "code",
      "source": [
        "df.dropna(inplace=True)\n"
      ],
      "metadata": {
        "id": "AjwzIp5KrM5G"
      },
      "execution_count": 12,
      "outputs": []
    },
    {
      "cell_type": "code",
      "source": [
        "df['Rating'] = pd.to_numeric(df['Rating'], errors='coerce')"
      ],
      "metadata": {
        "id": "_i618owhrM7Z"
      },
      "execution_count": 13,
      "outputs": []
    },
    {
      "cell_type": "code",
      "source": [
        "df.dropna(subset=['Rating'], inplace=True)\n"
      ],
      "metadata": {
        "id": "BNijbIi5nxSO"
      },
      "execution_count": 14,
      "outputs": []
    },
    {
      "cell_type": "code",
      "source": [
        "print(\"\\nFinal DataFrame:\")\n",
        "print(df.info())\n",
        "print(df.head())\n",
        "print(f\"Final number of rows: {df.shape[0]}\")"
      ],
      "metadata": {
        "colab": {
          "base_uri": "https://localhost:8080/"
        },
        "collapsed": true,
        "id": "vI20kkFynxa8",
        "outputId": "180dc113-79de-46a0-80a8-d36837f95351"
      },
      "execution_count": 16,
      "outputs": [
        {
          "output_type": "stream",
          "name": "stdout",
          "text": [
            "\n",
            "Final DataFrame:\n",
            "<class 'pandas.core.frame.DataFrame'>\n",
            "Index: 2515 entries, 0 to 2576\n",
            "Data columns (total 5 columns):\n",
            " #   Column   Non-Null Count  Dtype   \n",
            "---  ------   --------------  -----   \n",
            " 0   Company  2515 non-null   object  \n",
            " 1   Product  2515 non-null   object  \n",
            " 2   Style    2515 non-null   category\n",
            " 3   Country  2515 non-null   object  \n",
            " 4   Rating   2515 non-null   float64 \n",
            "dtypes: category(1), float64(1), object(3)\n",
            "memory usage: 101.0+ KB\n",
            "None\n",
            "          Company                                            Product Style  \\\n",
            "0       New Touch                          T's Restaurant Tantanmen    Cup   \n",
            "1        Just Way  Noodles Spicy Hot Sesame Spicy Hot Sesame Guan...  Pack   \n",
            "2          Nissin                      Cup Noodles Chicken Vegetable   Cup   \n",
            "3         Wei Lih                      GGE Ramen Snack Tomato Flavor  Pack   \n",
            "4  Ching's Secret                                    Singapore Curry  Pack   \n",
            "\n",
            "  Country  Rating  \n",
            "0   Japan    3.75  \n",
            "1  Taiwan    1.00  \n",
            "2     USA    2.25  \n",
            "3  Taiwan    2.75  \n",
            "4   India    3.75  \n",
            "Final number of rows: 2515\n"
          ]
        }
      ]
    },
    {
      "cell_type": "code",
      "source": [
        "#Numeric columns\n",
        "numeric_cols = df.select_dtypes(include=[np.number]).columns\n",
        "print(\"Numeric Columns:\", numeric_cols)"
      ],
      "metadata": {
        "colab": {
          "base_uri": "https://localhost:8080/"
        },
        "id": "Vk_sGt6-zE1g",
        "outputId": "94ea6b48-f57e-44bd-e22d-dcb3dd8cfb8b"
      },
      "execution_count": 17,
      "outputs": [
        {
          "output_type": "stream",
          "name": "stdout",
          "text": [
            "Numeric Columns: Index(['Rating'], dtype='object')\n"
          ]
        }
      ]
    },
    {
      "cell_type": "code",
      "source": [
        "print(\"\\nSummary Statistics:\")\n",
        "print(df[numeric_cols].describe())"
      ],
      "metadata": {
        "colab": {
          "base_uri": "https://localhost:8080/"
        },
        "id": "GNgEGaYtzE4R",
        "outputId": "c4440a8f-fa59-4613-f14d-60f4dc0979f5"
      },
      "execution_count": 18,
      "outputs": [
        {
          "output_type": "stream",
          "name": "stdout",
          "text": [
            "\n",
            "Summary Statistics:\n",
            "            Rating\n",
            "count  2515.000000\n",
            "mean      3.646262\n",
            "std       1.021692\n",
            "min       0.000000\n",
            "25%       3.250000\n",
            "50%       3.750000\n",
            "75%       4.250000\n",
            "max       5.000000\n"
          ]
        }
      ]
    },
    {
      "cell_type": "code",
      "source": [
        "sns.histplot(df['Rating'], kde=True, bins=30)\n",
        "plt.title('Distribution of Ratings')\n",
        "plt.show()"
      ],
      "metadata": {
        "colab": {
          "base_uri": "https://localhost:8080/",
          "height": 472
        },
        "id": "GyqP8kNyzE6e",
        "outputId": "8098745d-1f81-489c-f04f-6532067aab43"
      },
      "execution_count": 21,
      "outputs": [
        {
          "output_type": "display_data",
          "data": {
            "text/plain": [
              "<Figure size 640x480 with 1 Axes>"
            ],
            "image/png": "[encoded data removed]"
          },
          "metadata": {}
        }
      ]
    },
    {
      "cell_type": "code",
      "source": [
        "#Q1 (25th percentile) & Q3 (75th percentile)\n",
        "Q1 = df['Rating'].quantile(0.25)\n",
        "Q3 = df['Rating'].quantile(0.75)\n",
        "IQR = Q3 - Q1"
      ],
      "metadata": {
        "id": "Sg4gVXFHzE9B"
      },
      "execution_count": 22,
      "outputs": []
    },
    {
      "cell_type": "code",
      "source": [
        "lower_bound = Q1 - 1.5 * IQR\n",
        "upper_bound = Q3 + 1.5 * IQR"
      ],
      "metadata": {
        "id": "JyQWnvB-zFBQ"
      },
      "execution_count": 24,
      "outputs": []
    },
    {
      "cell_type": "code",
      "source": [
        "df_no_outliers = df[(df['Rating'] >= lower_bound) & (df['Rating'] <= upper_bound)]\n",
        "print(f\"Number of rows after removing outliers: {df_no_outliers.shape[0]}\")\n",
        "print(f\"Outliers removed: {df.shape[0] - df_no_outliers.shape[0]}\")"
      ],
      "metadata": {
        "colab": {
          "base_uri": "https://localhost:8080/"
        },
        "id": "cLsbodJLzeZH",
        "outputId": "f042d227-919f-4c89-e1e4-41df1965ff51"
      },
      "execution_count": 26,
      "outputs": [
        {
          "output_type": "stream",
          "name": "stdout",
          "text": [
            "Number of rows after removing outliers: 2386\n",
            "Outliers removed: 129\n"
          ]
        }
      ]
    },
    {
      "cell_type": "code",
      "source": [
        "X = df.drop(columns=['Rating'])\n",
        "y = df['Rating']"
      ],
      "metadata": {
        "id": "DlTb-1J-zeb-"
      },
      "execution_count": 27,
      "outputs": []
    },
    {
      "cell_type": "code",
      "source": [
        "X = pd.get_dummies(X, drop_first=True)"
      ],
      "metadata": {
        "id": "QleF-_wc0gEH"
      },
      "execution_count": 28,
      "outputs": []
    },
    {
      "cell_type": "code",
      "source": [
        "X_train, X_test, y_train, y_test = train_test_split(X, y, test_size=0.2, random_state=42)"
      ],
      "metadata": {
        "id": "2b6pC-wI0gGj"
      },
      "execution_count": 29,
      "outputs": []
    },
    {
      "cell_type": "code",
      "source": [
        "model = RandomForestRegressor(n_estimators=100, random_state=42)\n",
        "model.fit(X_train, y_train)\n",
        "y_pred = model.predict(X_test)"
      ],
      "metadata": {
        "id": "KBpquXYN0gJD"
      },
      "execution_count": 32,
      "outputs": []
    },
    {
      "cell_type": "code",
      "source": [
        "#Peroformance before removal\n",
        "mae_before = mean_absolute_error(y_test, y_pred)\n",
        "r2_before = r2_score(y_test, y_pred)\n"
      ],
      "metadata": {
        "id": "fzAhYvqhzejD"
      },
      "execution_count": 33,
      "outputs": []
    },
    {
      "cell_type": "code",
      "source": [
        "X_no_outliers = df_no_outliers.drop(columns=['Rating'])\n",
        "y_no_outliers = df_no_outliers['Rating']"
      ],
      "metadata": {
        "id": "X2xopfPYzFDU"
      },
      "execution_count": 34,
      "outputs": []
    },
    {
      "cell_type": "code",
      "source": [
        "X_no_outliers = pd.get_dummies(X_no_outliers, drop_first=True)"
      ],
      "metadata": {
        "id": "azHeMRG51puv"
      },
      "execution_count": 35,
      "outputs": []
    },
    {
      "cell_type": "code",
      "source": [
        "#Train-test split\n",
        "X_train_no_outliers, X_test_no_outliers, y_train_no_outliers, y_test_no_outliers = train_test_split(\n",
        "    X_no_outliers, y_no_outliers, test_size=0.2, random_state=42)"
      ],
      "metadata": {
        "id": "ExqkW44L1px1"
      },
      "execution_count": 37,
      "outputs": []
    },
    {
      "cell_type": "code",
      "source": [
        "model.fit(X_train_no_outliers, y_train_no_outliers)\n",
        "y_pred_no_outliers = model.predict(X_test_no_outliers)\n"
      ],
      "metadata": {
        "id": "GO_9dqeF1pz8"
      },
      "execution_count": 38,
      "outputs": []
    },
    {
      "cell_type": "code",
      "source": [
        "mae_after = mean_absolute_error(y_test_no_outliers, y_pred_no_outliers)\n",
        "r2_after = r2_score(y_test_no_outliers, y_pred_no_outliers)"
      ],
      "metadata": {
        "id": "KMYU3z6T10fH"
      },
      "execution_count": 39,
      "outputs": []
    },
    {
      "cell_type": "code",
      "source": [
        "print(f\"\\nModel Performance Before Outlier Removal:\\n - MAE: {mae_before:.4f}\\n - R² Score: {r2_before:.4f}\")\n",
        "print(f\"\\nModel Performance After Outlier Removal:\\n - MAE: {mae_after:.4f}\\n - R² Score: {r2_after:.4f}\")"
      ],
      "metadata": {
        "colab": {
          "base_uri": "https://localhost:8080/"
        },
        "id": "Q_MYzhbU10ha",
        "outputId": "292d9c0e-b983-4162-9644-7528896e0015"
      },
      "execution_count": 40,
      "outputs": [
        {
          "output_type": "stream",
          "name": "stdout",
          "text": [
            "\n",
            "Model Performance Before Outlier Removal:\n",
            " - MAE: 0.6437\n",
            " - R² Score: 0.1467\n",
            "\n",
            "Model Performance After Outlier Removal:\n",
            " - MAE: 0.5282\n",
            " - R² Score: 0.1677\n"
          ]
        }
      ]
    },
    {
      "cell_type": "markdown",
      "source": [
        "After analyzing the results, we observed that removing outliers improved our model’s performance. Initially, the model had an MAE (Mean Absolute Error) of 0.6437 and an R² Score of 0.1467. After removing the outliers, the MAE decreased to 0.5282, indicating more accurate predictions. At the same time, the R² Score increased to 0.1677, meaning the model explained a slightly more significant proportion of the variation in ratings. These improvements suggest that eliminating extreme values helped the model generalize better and make more reliable predictions of ramen ratings."
      ],
      "metadata": {
        "id": "lbbKrMAJ2sit"
      }
    }
  ]
}